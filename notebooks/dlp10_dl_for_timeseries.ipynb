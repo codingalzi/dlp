{
 "cells": [
  {
   "cell_type": "markdown",
   "metadata": {
    "colab_type": "text"
   },
   "source": [
    "# 10장 시계열 데이터와 순환 신경망"
   ]
  },
  {
   "cell_type": "markdown",
   "metadata": {
    "colab_type": "text"
   },
   "source": [
    "**감사말**: 프랑소와 숄레의 [Deep Learning with Python, Second Edition](https://www.manning.com/books/deep-learning-with-python-second-edition?a_aid=keras&a_bid=76564dff) 10장에 사용된 코드에 대한 설명을 담고 있으며 텐서플로우 2.6 버전에서 작성되었습니다. 소스코드를 공개한 저자에게 감사드립니다.\n",
    "\n",
    "**tensorflow 버전과 GPU 확인**\n",
    "- 구글 코랩 설정: '런타임 -> 런타임 유형 변경' 메뉴에서 GPU 지정 후 아래 명령어 실행 결과 확인\n",
    "\n",
    "    ```\n",
    "    !nvidia-smi\n",
    "    ```\n",
    "\n",
    "- 사용되는 tensorflow 버전 확인\n",
    "\n",
    "    ```python\n",
    "    import tensorflow as tf\n",
    "    tf.__version__\n",
    "    ```\n",
    "- tensorflow가 GPU를 사용하는지 여부 확인\n",
    "\n",
    "    ```python\n",
    "    tf.config.list_physical_devices('GPU')\n",
    "    ```"
   ]
  },
  {
   "cell_type": "markdown",
   "metadata": {},
   "source": [
    "## 주요내용"
   ]
  },
  {
   "cell_type": "markdown",
   "metadata": {},
   "source": [
    "- 시계열 데이터 머신러닝 과제 예제\n",
    "- 순환신경망(RNN, recurrent neural network) 이해\n",
    "- 온도 예측 RNN 모델 구현\n",
    "- 고급 RNN 활용 패턴"
   ]
  },
  {
   "cell_type": "markdown",
   "metadata": {
    "colab_type": "text"
   },
   "source": [
    "## 10.1 시계열 데이터 예제"
   ]
  },
  {
   "cell_type": "markdown",
   "metadata": {},
   "source": [
    "**시계열**(timeseries)은 일정 간격으로 측정된 값들로 이루어진 데이터이다. \n",
    "\n",
    "- 일일 단위 증시 가격\n",
    "- 도시의 시간당 소비 전력\n",
    "- 매장의 주별 판매량"
   ]
  },
  {
   "cell_type": "markdown",
   "metadata": {},
   "source": [
    "시계열은 자연현상 및 사람들의 일상에서 쉽게 구할 수 있다.\n",
    "\n",
    "- 지진 활동\n",
    "- 물고기 개체수\n",
    "- 지역 날씨\n",
    "- 웹사이트 방문자수\n",
    "- 국내총생산(GDP)"
   ]
  },
  {
   "cell_type": "markdown",
   "metadata": {},
   "source": [
    "시계열과 관련된 대표적인 과제는 **예측**(forcasting)이다. \n",
    "예를 들어, 몇 시간 후의 소비 전력, 몇 달 후의 영업 이익, 며칠 뒤의 날씨 등을 예측하는 일이다. \n",
    "이외에 시계열과 관련된 과제는 다음과 같다.\n",
    "\n",
    "- 분류(classification): 웹사이트 방문자의 활동 이력을 보고 사람인지 여부 판단\n",
    "- 이벤트 탐지(event detection): 오디오 스트림 감시 도중 \"Ok Google\", \"Hey Alexa\", \"시리야\" 등 핫워드(hotword) 탐지\n",
    "- 이상치 탐지(anomaly detection): 생산라인 중에 발생하는 특이현상, 회사 네트워크 상에 발생하는 특이 활동 등 탐지.\n",
    "    비지도 학습 활용."
   ]
  },
  {
   "cell_type": "markdown",
   "metadata": {
    "colab_type": "text"
   },
   "source": [
    "## 10.2 예제: 온도 예측"
   ]
  },
  {
   "cell_type": "markdown",
   "metadata": {},
   "source": [
    "나머지 이야기는 24시간 이후의 온도를 예측하는 모델을 구현하는 것이다. \n",
    "적절한 모델 구현과정을 통해 기존에 사용했던 밀집 연결 모델, 합성곱 모델 등은 적절하지 않고 \n",
    "시계열 데이터에 대한 새로운 접근방식을 사용하는 **순환 신경망**(recurrent neural network, RNN)이\n",
    "훨씬 잘 작동함을 보게 될 것이다. "
   ]
  },
  {
   "cell_type": "markdown",
   "metadata": {},
   "source": [
    "### 데이터셋 준비"
   ]
  },
  {
   "cell_type": "markdown",
   "metadata": {},
   "source": [
    "독일 예나(Jena)시에 위치한 막스-플랑크(Max-Planck) 생지화확(Biogeochemistry) 연구소가\n",
    "수 년동안 온도, 기압, 풍향 등 14 종류의 기상 데이터를 10분 단위로 측정해서 수집한 데이터셋이다. \n",
    "원래 2003년부터 측정하였지만 여기서는 2009-2016년 데이터만 이용한다. "
   ]
  },
  {
   "cell_type": "markdown",
   "metadata": {},
   "source": [
    "**zip 파일 다운로드 및 압축풀기**\n",
    "\n",
    "\"jena_climate_2009_2016.csv\" 파일이 생성된다."
   ]
  },
  {
   "cell_type": "code",
   "execution_count": 1,
   "metadata": {},
   "outputs": [],
   "source": [
    "if 'google.colab' in str(get_ipython()):\n",
    "    !wget https://s3.amazonaws.com/keras-datasets/jena_climate_2009_2016.csv.zip\n",
    "    !unzip jena_climate_2009_2016.csv.zip\n",
    "else: \n",
    "    try: \n",
    "        import wget, zipfile\n",
    "    except ModuleNotFoundError: \n",
    "        !pip install wget\n",
    "        import wget, zipfile\n",
    "        wget.download('https://s3.amazonaws.com/keras-datasets/jena_climate_2009_2016.csv.zip')\n",
    "        with zipfile.ZipFile('jena_climate_2009_2016.csv.zip', 'r') as zip_ref:\n",
    "            zip_ref.extractall('./')"
   ]
  },
  {
   "cell_type": "markdown",
   "metadata": {
    "colab_type": "text"
   },
   "source": [
    "**예나(Jena) 날씨 데이터셋 살펴보기**\n",
    "\n",
    "파일을 열어 줄(line) 단위로 쪼갠다."
   ]
  },
  {
   "cell_type": "code",
   "execution_count": 2,
   "metadata": {
    "colab_type": "code"
   },
   "outputs": [],
   "source": [
    "import os\n",
    "fname = os.path.join(\"jena_climate_2009_2016.csv\")\n",
    "\n",
    "with open(fname) as f:\n",
    "    data = f.read()\n",
    "\n",
    "lines = data.split(\"\\n\")"
   ]
  },
  {
   "cell_type": "markdown",
   "metadata": {},
   "source": [
    "첫째 줄은 날짜와 시간 이외에 14개의 특성명이 쉼표(콤마)로 구분되어 있으며,\n",
    "총 420,451개의 데이터를 포함한다."
   ]
  },
  {
   "cell_type": "code",
   "execution_count": 3,
   "metadata": {
    "colab_type": "code"
   },
   "outputs": [],
   "source": [
    "header = lines[0].split(\",\")\n",
    "lines = lines[1:]"
   ]
  },
  {
   "cell_type": "code",
   "execution_count": 4,
   "metadata": {
    "colab_type": "code"
   },
   "outputs": [
    {
     "name": "stdout",
     "output_type": "stream",
     "text": [
      "['\"Date Time\"', '\"p (mbar)\"', '\"T (degC)\"', '\"Tpot (K)\"', '\"Tdew (degC)\"', '\"rh (%)\"', '\"VPmax (mbar)\"', '\"VPact (mbar)\"', '\"VPdef (mbar)\"', '\"sh (g/kg)\"', '\"H2OC (mmol/mol)\"', '\"rho (g/m**3)\"', '\"wv (m/s)\"', '\"max. wv (m/s)\"', '\"wd (deg)\"']\n"
     ]
    }
   ],
   "source": [
    "print(header)"
   ]
  },
  {
   "cell_type": "code",
   "execution_count": 5,
   "metadata": {
    "colab_type": "code"
   },
   "outputs": [
    {
     "name": "stdout",
     "output_type": "stream",
     "text": [
      "420451\n"
     ]
    }
   ],
   "source": [
    "print(len(lines))"
   ]
  },
  {
   "cell_type": "markdown",
   "metadata": {},
   "source": [
    "첫째 데이터는 2009년 1월 1일 0시 10분에 측정되었다."
   ]
  },
  {
   "cell_type": "code",
   "execution_count": 6,
   "metadata": {},
   "outputs": [
    {
     "data": {
      "text/plain": [
       "'01.01.2009 00:10:00,996.52,-8.02,265.40,-8.90,93.30,3.33,3.11,0.22,1.94,3.12,1307.75,1.03,1.75,152.30'"
      ]
     },
     "execution_count": 6,
     "metadata": {},
     "output_type": "execute_result"
    }
   ],
   "source": [
    "lines[0]"
   ]
  },
  {
   "cell_type": "code",
   "execution_count": 7,
   "metadata": {},
   "outputs": [
    {
     "data": {
      "text/plain": [
       "['01.01.2009 00:10:00',\n",
       " '996.52',\n",
       " '-8.02',\n",
       " '265.40',\n",
       " '-8.90',\n",
       " '93.30',\n",
       " '3.33',\n",
       " '3.11',\n",
       " '0.22',\n",
       " '1.94',\n",
       " '3.12',\n",
       " '1307.75',\n",
       " '1.03',\n",
       " '1.75',\n",
       " '152.30']"
      ]
     },
     "execution_count": 7,
     "metadata": {},
     "output_type": "execute_result"
    }
   ],
   "source": [
    "lines[0].split(',')"
   ]
  },
  {
   "cell_type": "markdown",
   "metadata": {},
   "source": [
    "2번 인덱스 항목이 섭씨 온도이다. "
   ]
  },
  {
   "cell_type": "code",
   "execution_count": 8,
   "metadata": {},
   "outputs": [
    {
     "data": {
      "text/plain": [
       "'-8.02'"
      ]
     },
     "execution_count": 8,
     "metadata": {},
     "output_type": "execute_result"
    }
   ],
   "source": [
    "lines[0].split(',')[2]"
   ]
  },
  {
   "cell_type": "markdown",
   "metadata": {
    "colab_type": "text"
   },
   "source": [
    "**넘파이 어레이로 변환**"
   ]
  },
  {
   "cell_type": "code",
   "execution_count": 9,
   "metadata": {
    "colab_type": "code"
   },
   "outputs": [],
   "source": [
    "import numpy as np\n",
    "\n",
    "temperature = np.zeros((len(lines),))\n",
    "raw_data = np.zeros((len(lines), len(header) - 1))\n",
    "\n",
    "for i, line in enumerate(lines):\n",
    "    values = [float(x) for x in line.split(\",\")[1:]]\n",
    "\n",
    "    temperature[i] = values[1]    # i 번째 온도\n",
    "    raw_data[i, :] = values[:]    # i 번째 데이터"
   ]
  },
  {
   "cell_type": "markdown",
   "metadata": {
    "colab_type": "text"
   },
   "source": [
    "**온도 변화 그래프**"
   ]
  },
  {
   "cell_type": "code",
   "execution_count": 10,
   "metadata": {
    "colab_type": "code"
   },
   "outputs": [
    {
     "data": {
      "text/plain": [
       "[<matplotlib.lines.Line2D at 0x1782cadf850>]"
      ]
     },
     "execution_count": 10,
     "metadata": {},
     "output_type": "execute_result"
    },
    {
     "data": {
      "image/png": "[encoded data removed]",
      "text/plain": [
       "<Figure size 432x288 with 1 Axes>"
      ]
     },
     "metadata": {
      "needs_background": "light"
     },
     "output_type": "display_data"
    }
   ],
   "source": [
    "from matplotlib import pyplot as plt\n",
    "\n",
    "plt.plot(range(len(temperature)), temperature)"
   ]
  },
  {
   "cell_type": "markdown",
   "metadata": {
    "colab_type": "text"
   },
   "source": [
    "**처음 10일동안의 온도 변화**\n",
    "\n",
    "한 시간에 6번, 하루 24시간, 10일동안 측정 횟수는 `6 * 24 * 10 = 1,440`이다.\n",
    "\n",
    "- 1월 1일 - 1월 10일 기간동안 측정된 온도라 상당히 낮다.\n",
    "- 마지막 4일 동안은 일 단위 온도 변화가 주기성을 띈다. \n",
    "\n",
    "**주기성**(periodicity)은 시계열 데이터의 기본 특성 중 하나이다.\n",
    "월별 주기성은 매우 일관성을 갖는다. \n",
    "지난 몇 달동안의 데이터를 이용하여 다음 달의 평균 온도를 예측하는 일은 상대적으로 쉽다.\n",
    "반면에 일 단위의 예측은 아래 그래프에서 보듯이 훨씬 혼잡하다. "
   ]
  },
  {
   "cell_type": "code",
   "execution_count": 11,
   "metadata": {
    "colab_type": "code"
   },
   "outputs": [
    {
     "data": {
      "text/plain": [
       "[<matplotlib.lines.Line2D at 0x1782df74880>]"
      ]
     },
     "execution_count": 11,
     "metadata": {},
     "output_type": "execute_result"
    },
    {
     "data": {
      "image/png": "[encoded data removed]",
      "text/plain": [
       "<Figure size 432x288 with 1 Axes>"
      ]
     },
     "metadata": {
      "needs_background": "light"
     },
     "output_type": "display_data"
    }
   ],
   "source": [
    "plt.plot(range(1440), temperature[:1440])"
   ]
  },
  {
   "cell_type": "markdown",
   "metadata": {
    "colab_type": "text"
   },
   "source": [
    "**훈련셋, 검증셋, 테스트셋 크기**\n",
    "\n",
    "- 훈련셋: 전체의 50%\n",
    "- 검증셋: 전체의 25%\n",
    "- 테스트셋: 전체의 25%\n",
    "\n",
    "미래에 대한 예측을 실행하므로 훈련셋, 검증셋, 테스트셋 순으로 \n",
    "보다 오래된 데이터를 사용한다. "
   ]
  },
  {
   "cell_type": "code",
   "execution_count": 12,
   "metadata": {
    "colab_type": "code"
   },
   "outputs": [
    {
     "name": "stdout",
     "output_type": "stream",
     "text": [
      "num_train_samples:\t 210225\n",
      "num_val_samples:\t 105112\n",
      "num_test_samples:\t 105114\n"
     ]
    }
   ],
   "source": [
    "num_train_samples = int(0.5 * len(raw_data))     # 전체의 50%\n",
    "num_val_samples   = int(0.25 * len(raw_data))    # 전체의 25%\n",
    "num_test_samples  = len(raw_data) - num_train_samples - num_val_samples\n",
    "\n",
    "print(\"num_train_samples:\\t\", num_train_samples)\n",
    "print(\"num_val_samples:\\t\", num_val_samples)\n",
    "print(\"num_test_samples:\\t\", num_test_samples)"
   ]
  },
  {
   "cell_type": "markdown",
   "metadata": {
    "colab_type": "text"
   },
   "source": [
    "### 데이터 전처리"
   ]
  },
  {
   "cell_type": "markdown",
   "metadata": {},
   "source": [
    "시계열 데이터를 전처리 하려면 해결해야 할 문제를 명확히 지정해야 한다.\n",
    "여기서는 지난 5일치의 날씨 데이터를 이용하여 앞으로 24시간 후의 온도를 예측하는 모델을 구현하고자 한다.\n",
    "따라서 이 목적을 위한 시계열 데이터의 입력 샘플은 지난 5일치의 날씨 데이터를 하나의 시퀀스로 묶은 데이터이고,\n",
    "타깃은 해당 시퀀스보다 24시간 앞선 데이터의 온도이어야 한다. \n",
    "\n",
    "5일 단위의 시퀀스와 타깃을 정하기 전에 먼저 기존 데이터셋을 정규화 한다.\n",
    "즉, 특성별로 평균은 0, 표준편차는 1로 변환한다.\n",
    "\n",
    "**주의사항**: 훈련셋의 평균값과 표준편차를 이용하여 모든 데이터셋을 정규화해야 한다.\n",
    "앞서 언급한 것처럼 시계열 데이터의 훈련셋은 이른 시점에서의 데이터를 활용한다."
   ]
  },
  {
   "cell_type": "markdown",
   "metadata": {
    "colab_type": "text"
   },
   "source": [
    "**데이터 정규화**"
   ]
  },
  {
   "cell_type": "code",
   "execution_count": 13,
   "metadata": {
    "colab_type": "code"
   },
   "outputs": [],
   "source": [
    "# 훈련셋의 평균\n",
    "mean = raw_data[:num_train_samples].mean(axis=0)\n",
    "raw_data -= mean\n",
    "\n",
    "# 훈련셋의 표준편차\n",
    "std = raw_data[:num_train_samples].std(axis=0)\n",
    "raw_data /= std"
   ]
  },
  {
   "cell_type": "markdown",
   "metadata": {},
   "source": [
    "**5일 단위 시퀀스 데이터 준비**"
   ]
  },
  {
   "cell_type": "markdown",
   "metadata": {},
   "source": [
    "앞서 언급한 문제의 해결을 위한 모델을 구현하려면\n",
    "5일 단위 시퀀스 데이터를 준비해야 하지만\n",
    "`timeseries_dataset_from_array()` 함수를 활용하면 아주 쉽게 해결된다.\n",
    "함수에 사용된 인자의 역할은 다음과 같다.\n",
    "\n",
    "- `data`: 선택 대상 데이터셋 전체\n",
    "- `targets`: 선택 대상 데이터셋 전체\n",
    "- `sampling_rate`: 표본 비율. 몇 개 중에 하나를 선택할 것인지 지정.\n",
    "- `sequence_length`: 시퀀스 샘플 길이\n",
    "- `shuffle=True`: 생성된 시퀀스들의 순서를 무작위하게 섞음.\n",
    "- `batch_size`: 배치 크기. 생성된 시퀀스들을 배치로 묶음.\n",
    "- `start_index`: 표본 추출 대상 시작 구간\n",
    "- `end_index`: 표본 추출 대상 끝 구간"
   ]
  },
  {
   "cell_type": "code",
   "execution_count": 14,
   "metadata": {
    "colab_type": "code"
   },
   "outputs": [],
   "source": [
    "from tensorflow import keras\n",
    "\n",
    "# 1시간에 하나의 데이터 선택\n",
    "sampling_rate = 6\n",
    "\n",
    "# 입력 데이터 시퀀스: 지난 5일치(120시간) 온도 데이터\n",
    "sequence_length = 120\n",
    "\n",
    "# 타깃 설정:24시간 이후의 온도. 지연(delay)을 6일치로 지정\n",
    "delay = sampling_rate * (sequence_length + 24 - 1)\n",
    "\n",
    "# 배치 크기\n",
    "batch_size = 256\n",
    "\n",
    "# 훈련셋\n",
    "train_dataset = keras.utils.timeseries_dataset_from_array(\n",
    "    data=raw_data[:-delay],\n",
    "    targets=temperature[delay:],\n",
    "    sampling_rate=sampling_rate,\n",
    "    sequence_length=sequence_length,\n",
    "    shuffle=True, # 생성된 시퀀스들의 순서 무작위화\n",
    "    batch_size=batch_size,\n",
    "    start_index=0,\n",
    "    end_index=num_train_samples)\n",
    "\n",
    "# 검증셋\n",
    "val_dataset = keras.utils.timeseries_dataset_from_array(\n",
    "    data=raw_data[:-delay],\n",
    "    targets=temperature[delay:],\n",
    "    sampling_rate=sampling_rate,\n",
    "    sequence_length=sequence_length,\n",
    "    shuffle=True,\n",
    "    batch_size=batch_size,\n",
    "    start_index=num_train_samples,\n",
    "    end_index=num_train_samples + num_val_samples)\n",
    "\n",
    "# 테스트셋\n",
    "test_dataset = keras.utils.timeseries_dataset_from_array(\n",
    "    data=raw_data[:-delay],\n",
    "    targets=temperature[delay:],\n",
    "    sampling_rate=sampling_rate,\n",
    "    sequence_length=sequence_length,\n",
    "    shuffle=True,\n",
    "    batch_size=batch_size,\n",
    "    start_index=num_train_samples + num_val_samples)"
   ]
  },
  {
   "cell_type": "markdown",
   "metadata": {
    "colab_type": "text"
   },
   "source": [
    "생성된 새로운 데이터셋은 훈련셋의 샘플과 타깃을 함께 배치 단위로 묶여있다.\n",
    "예를 들어, 훈련셋의 첫째 배치의 모양은 다음과 같다.\n",
    "\n",
    "- 배치 크기: 256\n",
    "- 시퀀스 샘플 모양: `(120, 14)`\n",
    "    - 14개의 특성을 갖는 날씨 데이터 5일치"
   ]
  },
  {
   "cell_type": "code",
   "execution_count": 15,
   "metadata": {
    "colab_type": "code"
   },
   "outputs": [
    {
     "name": "stdout",
     "output_type": "stream",
     "text": [
      "샘플 모양: (256, 120, 14)\n",
      "타깃 모양: (256,)\n"
     ]
    }
   ],
   "source": [
    "for samples, targets in train_dataset:\n",
    "    print(\"샘플 모양:\", samples.shape)\n",
    "    print(\"타깃 모양:\", targets.shape)\n",
    "    break"
   ]
  },
  {
   "cell_type": "markdown",
   "metadata": {},
   "source": [
    "**참고: `timeseries_dataset_from_array()` 활용법**"
   ]
  },
  {
   "cell_type": "markdown",
   "metadata": {},
   "source": [
    "아래 코드는 넘파이 어레이를 이용하여 \n",
    "`timeseries_dataset_from_array()` 함수의 작동법을 설명한다."
   ]
  },
  {
   "cell_type": "code",
   "execution_count": 16,
   "metadata": {},
   "outputs": [
    {
     "data": {
      "text/plain": [
       "array([0, 1, 2, 3, 4, 5, 6, 7, 8, 9])"
      ]
     },
     "execution_count": 16,
     "metadata": {},
     "output_type": "execute_result"
    }
   ],
   "source": [
    "int_sequence = np.arange(10)\n",
    "int_sequence"
   ]
  },
  {
   "cell_type": "code",
   "execution_count": 17,
   "metadata": {},
   "outputs": [],
   "source": [
    "dummy_dataset = keras.utils.timeseries_dataset_from_array(\n",
    "    data=int_sequence[:-3],\n",
    "    targets=int_sequence[3:],\n",
    "    sequence_length=3,\n",
    "    batch_size=2,\n",
    ")"
   ]
  },
  {
   "cell_type": "markdown",
   "metadata": {},
   "source": [
    "길이가 3인 시퀀스 샘플을 2개씩 묶은 배치 3개가 만들어진다. "
   ]
  },
  {
   "cell_type": "code",
   "execution_count": 18,
   "metadata": {
    "colab_type": "code"
   },
   "outputs": [
    {
     "name": "stdout",
     "output_type": "stream",
     "text": [
      "배치 0:\n",
      "  samples shape: (2, 3)\n",
      "  targets shape: (2,)\n",
      "\n",
      "배치 1:\n",
      "  samples shape: (2, 3)\n",
      "  targets shape: (2,)\n",
      "\n",
      "배치 2:\n",
      "  samples shape: (1, 3)\n",
      "  targets shape: (1,)\n",
      "\n"
     ]
    }
   ],
   "source": [
    "i = 0\n",
    "for inputs, targets in dummy_dataset:\n",
    "    print(f\"배치 {i}:\")\n",
    "    print(\"  samples shape:\", inputs.shape)\n",
    "    print(\"  targets shape:\", targets.shape)\n",
    "    print()\n",
    "    i += 1"
   ]
  },
  {
   "cell_type": "markdown",
   "metadata": {},
   "source": [
    "배치 별 샘플과 타깃을 확인하면 다음과 같다."
   ]
  },
  {
   "cell_type": "code",
   "execution_count": 19,
   "metadata": {},
   "outputs": [
    {
     "name": "stdout",
     "output_type": "stream",
     "text": [
      "배치 0:\n",
      "  샘플: [0, 1, 2]   타깃: 3\n",
      "  샘플: [1, 2, 3]   타깃: 4\n",
      "\n",
      "배치 2:\n",
      "  샘플: [2, 3, 4]   타깃: 5\n",
      "  샘플: [3, 4, 5]   타깃: 6\n",
      "\n",
      "배치 2:\n",
      "  샘플: [4, 5, 6]   타깃: 7\n",
      "\n"
     ]
    }
   ],
   "source": [
    "i = 0\n",
    "for inputs, targets in dummy_dataset:\n",
    "    print(f\"배치 {i}:\")\n",
    "    for i in range(inputs.shape[0]):\n",
    "        print(\"  샘플:\", [int(x) for x in inputs[i]], \"  타깃:\", int(targets[i]))\n",
    "    \n",
    "    print()\n",
    "    i += 1"
   ]
  },
  {
   "cell_type": "markdown",
   "metadata": {
    "colab_type": "text"
   },
   "source": [
    "### 베이스라인 설정"
   ]
  },
  {
   "cell_type": "markdown",
   "metadata": {},
   "source": [
    "모델 성능의 최저 기준선으로 24시간 후의 온도를 현재 온도로 예측하는 것을 사용한다.\n",
    "즉, 내일 이 시간 온도가 현재 온도와 별 차이가 없다는 가정을 이용한다. \n",
    "그러면 검증셋과 테스트셋에 대한 평균절대오차는 각각 2.44와 2.62이다."
   ]
  },
  {
   "cell_type": "code",
   "execution_count": 20,
   "metadata": {
    "colab_type": "code"
   },
   "outputs": [
    {
     "name": "stdout",
     "output_type": "stream",
     "text": [
      "검증셋 평균절대오차(MAE): 2.44\n",
      "테스트셋 평균절대오차(MAE): 2.62\n"
     ]
    }
   ],
   "source": [
    "def evaluate_naive_method(dataset):\n",
    "    total_abs_err = 0.\n",
    "    samples_seen = 0\n",
    "    for samples, targets in dataset:\n",
    "        preds = samples[:, -1, 1] * std[1] + mean[1]  # 원 데이터로 되돌리기\n",
    "        total_abs_err += np.sum(np.abs(preds - targets))\n",
    "        samples_seen += samples.shape[0]\n",
    "    return total_abs_err / samples_seen\n",
    "\n",
    "print(f\"검증셋 평균절대오차(MAE): {evaluate_naive_method(val_dataset):.2f}\")\n",
    "print(f\"테스트셋 평균절대오차(MAE): {evaluate_naive_method(test_dataset):.2f}\")"
   ]
  },
  {
   "cell_type": "markdown",
   "metadata": {
    "colab_type": "text"
   },
   "source": [
    "### 밀집 연결 모델 성능"
   ]
  },
  {
   "cell_type": "markdown",
   "metadata": {},
   "source": [
    "밀집층만을 사용하는 모델의 성능은 베이스라인과 비슷하게 나온다.\n",
    "\n",
    "- 평균절대오차는 모델평가지표로 사용한다.\n",
    "- 손실함수는 (미분가능한 함수인) 평균제곱근오차를 사용한다."
   ]
  },
  {
   "cell_type": "code",
   "execution_count": 21,
   "metadata": {
    "colab_type": "code"
   },
   "outputs": [
    {
     "name": "stdout",
     "output_type": "stream",
     "text": [
      "Epoch 1/10\n",
      "819/819 [==============================] - 8s 9ms/step - loss: 13.2325 - mae: 2.8003 - val_loss: 13.1980 - val_mae: 2.8906\n",
      "Epoch 2/10\n",
      "819/819 [==============================] - 8s 9ms/step - loss: 9.0143 - mae: 2.3629 - val_loss: 10.0184 - val_mae: 2.4945\n",
      "Epoch 3/10\n",
      "819/819 [==============================] - 8s 9ms/step - loss: 8.3270 - mae: 2.2739 - val_loss: 10.2828 - val_mae: 2.5282\n",
      "Epoch 4/10\n",
      "819/819 [==============================] - 8s 9ms/step - loss: 7.8874 - mae: 2.2105 - val_loss: 10.0891 - val_mae: 2.4995\n",
      "Epoch 5/10\n",
      "819/819 [==============================] - 8s 9ms/step - loss: 7.6047 - mae: 2.1687 - val_loss: 10.2898 - val_mae: 2.5245\n",
      "Epoch 6/10\n",
      "819/819 [==============================] - 8s 9ms/step - loss: 7.3592 - mae: 2.1323 - val_loss: 12.6840 - val_mae: 2.8234\n",
      "Epoch 7/10\n",
      "819/819 [==============================] - 8s 9ms/step - loss: 7.1615 - mae: 2.1057 - val_loss: 11.0099 - val_mae: 2.6124\n",
      "Epoch 8/10\n",
      "819/819 [==============================] - 8s 9ms/step - loss: 7.0081 - mae: 2.0825 - val_loss: 10.6182 - val_mae: 2.5627\n",
      "Epoch 9/10\n",
      "819/819 [==============================] - 8s 9ms/step - loss: 6.8553 - mae: 2.0577 - val_loss: 10.5297 - val_mae: 2.5560\n",
      "Epoch 10/10\n",
      "819/819 [==============================] - 8s 9ms/step - loss: 6.7475 - mae: 2.0419 - val_loss: 11.1660 - val_mae: 2.6384\n",
      "405/405 [==============================] - 3s 6ms/step - loss: 11.6651 - mae: 2.6760\n",
      "Test MAE: 2.68\n"
     ]
    }
   ],
   "source": [
    "from tensorflow import keras\n",
    "from tensorflow.keras import layers\n",
    "\n",
    "inputs = keras.Input(shape=(sequence_length, raw_data.shape[-1]))\n",
    "x = layers.Flatten()(inputs)\n",
    "x = layers.Dense(16, activation=\"relu\")(x)\n",
    "outputs = layers.Dense(1)(x)\n",
    "model = keras.Model(inputs, outputs)\n",
    "\n",
    "callbacks = [\n",
    "    keras.callbacks.ModelCheckpoint(\"jena_dense.keras\",\n",
    "                                    save_best_only=True)\n",
    "]\n",
    "\n",
    "# 모델 컴파일 및 실행\n",
    "model.compile(optimizer=\"rmsprop\", loss=\"mse\", metrics=[\"mae\"])\n",
    "\n",
    "history = model.fit(train_dataset,\n",
    "                    epochs=10,\n",
    "                    validation_data=val_dataset,\n",
    "                    callbacks=callbacks)\n",
    "\n",
    "# 최선 모델 활용\n",
    "model = keras.models.load_model(\"jena_dense.keras\")\n",
    "print(f\"Test MAE: {model.evaluate(test_dataset)[1]:.2f}\")"
   ]
  },
  {
   "cell_type": "markdown",
   "metadata": {
    "colab_type": "text"
   },
   "source": [
    "학습과정을 그래프로 나타내면 다음과 같다."
   ]
  },
  {
   "cell_type": "code",
   "execution_count": 22,
   "metadata": {
    "colab_type": "code"
   },
   "outputs": [
    {
     "data": {
      "image/png": "[encoded data removed]",
      "text/plain": [
       "<Figure size 432x288 with 1 Axes>"
      ]
     },
     "metadata": {
      "needs_background": "light"
     },
     "output_type": "display_data"
    }
   ],
   "source": [
    "import matplotlib.pyplot as plt\n",
    "\n",
    "loss = history.history[\"mae\"]\n",
    "val_loss = history.history[\"val_mae\"]\n",
    "epochs = range(1, len(loss) + 1)\n",
    "\n",
    "plt.figure()\n",
    "plt.plot(epochs, loss, \"bo\", label=\"Training MAE\")\n",
    "plt.plot(epochs, val_loss, \"b\", label=\"Validation MAE\")\n",
    "plt.title(\"Training and validation MAE\")\n",
    "plt.legend()\n",
    "plt.show()"
   ]
  },
  {
   "cell_type": "markdown",
   "metadata": {
    "colab_type": "text"
   },
   "source": [
    "### 1D 합성곱 신경망 모델 성능"
   ]
  },
  {
   "cell_type": "markdown",
   "metadata": {},
   "source": [
    "`Conv1D` 층은 `Conv2D` 층에서 사용된 필터 개념을 1차원 텐서에 대해 동일한\n",
    "방식으로 적용한다. \n",
    "`MaxPooling1D` 층 또한 `MaxPooling2D`와 동일한 방식으로 작동한다.\n",
    "\n",
    "아래 모델은 `Conv1D`와 `MaxPooling1D` 층을 이용한 합성곱 신경망 모델을\n",
    "온도 예측에 활용한 결과를 보여준다.\n",
    "그런데 매우 실망스럽다."
   ]
  },
  {
   "cell_type": "code",
   "execution_count": 23,
   "metadata": {
    "colab_type": "code"
   },
   "outputs": [
    {
     "name": "stdout",
     "output_type": "stream",
     "text": [
      "Epoch 1/10\n",
      "819/819 [==============================] - 12s 12ms/step - loss: 21.9152 - mae: 3.6608 - val_loss: 15.4688 - val_mae: 3.1435\n",
      "Epoch 2/10\n",
      "819/819 [==============================] - 9s 11ms/step - loss: 15.5923 - mae: 3.1428 - val_loss: 14.9357 - val_mae: 3.0605\n",
      "Epoch 3/10\n",
      "819/819 [==============================] - 9s 11ms/step - loss: 14.4798 - mae: 3.0245 - val_loss: 15.8115 - val_mae: 3.1287\n",
      "Epoch 4/10\n",
      "819/819 [==============================] - 9s 11ms/step - loss: 13.5093 - mae: 2.9177 - val_loss: 14.3347 - val_mae: 2.9919\n",
      "Epoch 5/10\n",
      "819/819 [==============================] - 9s 11ms/step - loss: 12.7750 - mae: 2.8350 - val_loss: 14.8836 - val_mae: 3.0492\n",
      "Epoch 6/10\n",
      "819/819 [==============================] - 9s 11ms/step - loss: 12.2123 - mae: 2.7711 - val_loss: 15.0305 - val_mae: 3.0534\n",
      "Epoch 7/10\n",
      "819/819 [==============================] - 9s 11ms/step - loss: 11.7144 - mae: 2.7141 - val_loss: 18.6135 - val_mae: 3.4234\n",
      "Epoch 8/10\n",
      "819/819 [==============================] - 9s 11ms/step - loss: 11.3075 - mae: 2.6647 - val_loss: 14.8417 - val_mae: 3.0290\n",
      "Epoch 9/10\n",
      "819/819 [==============================] - 9s 11ms/step - loss: 10.9235 - mae: 2.6186 - val_loss: 15.5076 - val_mae: 3.0919\n",
      "Epoch 10/10\n",
      "819/819 [==============================] - 9s 11ms/step - loss: 10.6215 - mae: 2.5810 - val_loss: 16.9346 - val_mae: 3.2372\n",
      "405/405 [==============================] - 3s 6ms/step - loss: 15.3746 - mae: 3.1259\n",
      "Test MAE: 3.13\n"
     ]
    }
   ],
   "source": [
    "inputs = keras.Input(shape=(sequence_length, raw_data.shape[-1]))\n",
    "x = layers.Conv1D(8, 24, activation=\"relu\")(inputs)\n",
    "x = layers.MaxPooling1D(2)(x)\n",
    "x = layers.Conv1D(8, 12, activation=\"relu\")(x)\n",
    "x = layers.MaxPooling1D(2)(x)\n",
    "x = layers.Conv1D(8, 6, activation=\"relu\")(x)\n",
    "x = layers.GlobalAveragePooling1D()(x)\n",
    "outputs = layers.Dense(1)(x)\n",
    "model = keras.Model(inputs, outputs)\n",
    "\n",
    "callbacks = [\n",
    "    keras.callbacks.ModelCheckpoint(\"jena_conv.keras\",\n",
    "                                    save_best_only=True)\n",
    "]\n",
    "\n",
    "# 모델 컴파일 및 실행\n",
    "model.compile(optimizer=\"rmsprop\", loss=\"mse\", metrics=[\"mae\"])\n",
    "\n",
    "history = model.fit(train_dataset,\n",
    "                    epochs=10,\n",
    "                    validation_data=val_dataset,\n",
    "                    callbacks=callbacks)\n",
    "\n",
    "# 최선 모델 활용\n",
    "model = keras.models.load_model(\"jena_conv.keras\")\n",
    "print(f\"Test MAE: {model.evaluate(test_dataset)[1]:.2f}\")"
   ]
  },
  {
   "cell_type": "markdown",
   "metadata": {
    "colab_type": "text"
   },
   "source": [
    "학습과정을 그래프로 나타내면 다음과 같으며, 밀집 연결 모델보다 훨씬 성능이 나쁘다."
   ]
  },
  {
   "cell_type": "code",
   "execution_count": 24,
   "metadata": {
    "colab_type": "code"
   },
   "outputs": [
    {
     "data": {
      "image/png": "[encoded data removed]",
      "text/plain": [
       "<Figure size 432x288 with 1 Axes>"
      ]
     },
     "metadata": {
      "needs_background": "light"
     },
     "output_type": "display_data"
    }
   ],
   "source": [
    "import matplotlib.pyplot as plt\n",
    "\n",
    "loss = history.history[\"mae\"]\n",
    "val_loss = history.history[\"val_mae\"]\n",
    "epochs = range(1, len(loss) + 1)\n",
    "\n",
    "plt.figure()\n",
    "plt.plot(epochs, loss, \"bo\", label=\"Training MAE\")\n",
    "plt.plot(epochs, val_loss, \"b\", label=\"Validation MAE\")\n",
    "plt.title(\"Training and validation MAE\")\n",
    "plt.legend()\n",
    "plt.show()"
   ]
  },
  {
   "cell_type": "markdown",
   "metadata": {
    "colab_type": "text"
   },
   "source": [
    "### 간단한 순환 모델 성능"
   ]
  },
  {
   "cell_type": "markdown",
   "metadata": {
    "colab_type": "text"
   },
   "source": [
    "가장 간단한 순환 신경망 모델이더라도 베이스라인보다 좋은 성능을 보여준다는 것을 확인할 수 있다.\n",
    "\n",
    "- LSTM 층: 장단기 메모리(Long Short Term Memory) 층"
   ]
  },
  {
   "cell_type": "code",
   "execution_count": 25,
   "metadata": {
    "colab_type": "code"
   },
   "outputs": [
    {
     "name": "stdout",
     "output_type": "stream",
     "text": [
      "Epoch 1/10\n",
      "819/819 [==============================] - 15s 17ms/step - loss: 44.3710 - mae: 4.8409 - val_loss: 12.6833 - val_mae: 2.6962\n",
      "Epoch 2/10\n",
      "819/819 [==============================] - 13s 16ms/step - loss: 11.0339 - mae: 2.5777 - val_loss: 9.5880 - val_mae: 2.4041\n",
      "Epoch 3/10\n",
      "819/819 [==============================] - 14s 16ms/step - loss: 9.9279 - mae: 2.4534 - val_loss: 9.3511 - val_mae: 2.3813\n",
      "Epoch 4/10\n",
      "819/819 [==============================] - 13s 16ms/step - loss: 9.6156 - mae: 2.4109 - val_loss: 9.2712 - val_mae: 2.3658\n",
      "Epoch 5/10\n",
      "819/819 [==============================] - 13s 16ms/step - loss: 9.3630 - mae: 2.3764 - val_loss: 9.5573 - val_mae: 2.3953\n",
      "Epoch 6/10\n",
      "819/819 [==============================] - 14s 16ms/step - loss: 9.1418 - mae: 2.3501 - val_loss: 10.8980 - val_mae: 2.4927\n",
      "Epoch 7/10\n",
      "819/819 [==============================] - 13s 16ms/step - loss: 8.9109 - mae: 2.3212 - val_loss: 9.5703 - val_mae: 2.3992\n",
      "Epoch 8/10\n",
      "819/819 [==============================] - 14s 17ms/step - loss: 8.7001 - mae: 2.2968 - val_loss: 9.6264 - val_mae: 2.4074\n",
      "Epoch 9/10\n",
      "819/819 [==============================] - 14s 16ms/step - loss: 8.4610 - mae: 2.2612 - val_loss: 10.2720 - val_mae: 2.4550\n",
      "Epoch 10/10\n",
      "819/819 [==============================] - 13s 16ms/step - loss: 8.2450 - mae: 2.2311 - val_loss: 10.2797 - val_mae: 2.4527\n",
      "405/405 [==============================] - 4s 8ms/step - loss: 10.7914 - mae: 2.5564\n",
      "Test MAE: 2.56\n"
     ]
    }
   ],
   "source": [
    "inputs = keras.Input(shape=(sequence_length, raw_data.shape[-1]))\n",
    "x = layers.LSTM(16)(inputs)\n",
    "outputs = layers.Dense(1)(x)\n",
    "\n",
    "model = keras.Model(inputs, outputs)\n",
    "\n",
    "callbacks = [\n",
    "    keras.callbacks.ModelCheckpoint(\"jena_lstm.keras\",\n",
    "                                    save_best_only=True)\n",
    "]\n",
    "\n",
    "# 모델 컴파일 및 실행\n",
    "model.compile(optimizer=\"rmsprop\", loss=\"mse\", metrics=[\"mae\"])\n",
    "history = model.fit(train_dataset,\n",
    "                    epochs=10,\n",
    "                    validation_data=val_dataset,\n",
    "                    callbacks=callbacks)\n",
    "\n",
    "model = keras.models.load_model(\"jena_lstm.keras\")\n",
    "print(f\"Test MAE: {model.evaluate(test_dataset)[1]:.2f}\")"
   ]
  },
  {
   "cell_type": "markdown",
   "metadata": {
    "colab_type": "text"
   },
   "source": [
    "## 10.3 순환 신경망 이해"
   ]
  },
  {
   "cell_type": "markdown",
   "metadata": {},
   "source": [
    "**순환 신경망(recurrent neural network)**"
   ]
  },
  {
   "cell_type": "markdown",
   "metadata": {},
   "source": [
    "<div align=\"center\"><img src=\"https://drek4537l1klr.cloudfront.net/chollet2/Figures/10-06.png\" style=\"width:25%;\"></div>\n",
    "\n",
    "그림 출처: [Deep Learning with Python(Manning MEAP)](https://www.manning.com/books/deep-learning-with-python-second-edition)"
   ]
  },
  {
   "cell_type": "markdown",
   "metadata": {},
   "source": [
    "### `SimpleRNN` 층"
   ]
  },
  {
   "cell_type": "markdown",
   "metadata": {},
   "source": [
    "<div align=\"center\"><img src=\"https://drek4537l1klr.cloudfront.net/chollet2/HighResolutionFigures/figure_10-7.png\" style=\"width:100%;\"></div>\n",
    "\n",
    "그림 출처: [Deep Learning with Python(Manning MEAP)](https://www.manning.com/books/deep-learning-with-python-second-edition)"
   ]
  },
  {
   "cell_type": "code",
   "execution_count": null,
   "metadata": {},
   "outputs": [],
   "source": []
  },
  {
   "cell_type": "code",
   "execution_count": null,
   "metadata": {},
   "outputs": [],
   "source": []
  },
  {
   "cell_type": "code",
   "execution_count": null,
   "metadata": {},
   "outputs": [],
   "source": []
  },
  {
   "cell_type": "markdown",
   "metadata": {},
   "source": [
    "### `LSTM` 층"
   ]
  },
  {
   "cell_type": "markdown",
   "metadata": {},
   "source": [
    "<div align=\"center\"><img src=\"https://drek4537l1klr.cloudfront.net/chollet2/Figures/10-10.png\" style=\"width:100%;\"></div>\n",
    "\n",
    "그림 출처: [Deep Learning with Python(Manning MEAP)](https://www.manning.com/books/deep-learning-with-python-second-edition)"
   ]
  },
  {
   "cell_type": "code",
   "execution_count": null,
   "metadata": {},
   "outputs": [],
   "source": []
  },
  {
   "cell_type": "code",
   "execution_count": null,
   "metadata": {},
   "outputs": [],
   "source": []
  },
  {
   "cell_type": "code",
   "execution_count": null,
   "metadata": {},
   "outputs": [],
   "source": []
  },
  {
   "cell_type": "markdown",
   "metadata": {
    "colab_type": "text"
   },
   "source": [
    "**NumPy implementation of a simple RNN**"
   ]
  },
  {
   "cell_type": "code",
   "execution_count": 26,
   "metadata": {
    "colab_type": "code"
   },
   "outputs": [],
   "source": [
    "timesteps = 100\n",
    "\n",
    "input_features = 32\n",
    "output_features = 64\n",
    "\n",
    "inputs = np.random.random((timesteps, input_features))\n",
    "state_t = np.zeros((output_features,))\n",
    "\n",
    "W = np.random.random((output_features, input_features))\n",
    "U = np.random.random((output_features, output_features))\n",
    "b = np.random.random((output_features,))\n",
    "\n",
    "successive_outputs = []\n",
    "\n",
    "for input_t in inputs:\n",
    "    output_t = np.tanh(np.dot(W, input_t) + np.dot(U, state_t) + b)\n",
    "    successive_outputs.append(output_t)\n",
    "    state_t = output_t\n",
    "\n",
    "final_output_sequence = np.stack(successive_outputs, axis=0)"
   ]
  },
  {
   "cell_type": "code",
   "execution_count": 27,
   "metadata": {},
   "outputs": [
    {
     "data": {
      "text/plain": [
       "(100, 64)"
      ]
     },
     "execution_count": 27,
     "metadata": {},
     "output_type": "execute_result"
    }
   ],
   "source": [
    "final_output_sequence.shape"
   ]
  },
  {
   "cell_type": "markdown",
   "metadata": {
    "colab_type": "text"
   },
   "source": [
    "### A recurrent layer in Keras"
   ]
  },
  {
   "cell_type": "markdown",
   "metadata": {
    "colab_type": "text"
   },
   "source": [
    "**A RNN layer that can process sequences of any length**"
   ]
  },
  {
   "cell_type": "code",
   "execution_count": 28,
   "metadata": {
    "colab_type": "code"
   },
   "outputs": [],
   "source": [
    "num_features = 14\n",
    "inputs = keras.Input(shape=(None, num_features))\n",
    "outputs = layers.SimpleRNN(16)(inputs)"
   ]
  },
  {
   "cell_type": "markdown",
   "metadata": {
    "colab_type": "text"
   },
   "source": [
    "**A RNN layer that returns only its last output step**"
   ]
  },
  {
   "cell_type": "code",
   "execution_count": 29,
   "metadata": {
    "colab_type": "code"
   },
   "outputs": [
    {
     "name": "stdout",
     "output_type": "stream",
     "text": [
      "(None, 16)\n"
     ]
    }
   ],
   "source": [
    "num_features = 14\n",
    "steps = 120\n",
    "inputs = keras.Input(shape=(steps, num_features))\n",
    "outputs = layers.SimpleRNN(16, return_sequences=False)(inputs)\n",
    "print(outputs.shape)"
   ]
  },
  {
   "cell_type": "markdown",
   "metadata": {
    "colab_type": "text"
   },
   "source": [
    "**A RNN layer that returns its full output sequence**"
   ]
  },
  {
   "cell_type": "code",
   "execution_count": 30,
   "metadata": {
    "colab_type": "code"
   },
   "outputs": [
    {
     "name": "stdout",
     "output_type": "stream",
     "text": [
      "(None, 120, 16)\n"
     ]
    }
   ],
   "source": [
    "num_features = 14\n",
    "steps = 120\n",
    "inputs = keras.Input(shape=(steps, num_features))\n",
    "outputs = layers.SimpleRNN(16, return_sequences=True)(inputs)\n",
    "print(outputs.shape)"
   ]
  },
  {
   "cell_type": "markdown",
   "metadata": {
    "colab_type": "text"
   },
   "source": [
    "**Stacking RNN layers**"
   ]
  },
  {
   "cell_type": "code",
   "execution_count": 31,
   "metadata": {
    "colab_type": "code"
   },
   "outputs": [],
   "source": [
    "inputs = keras.Input(shape=(steps, num_features))\n",
    "x = layers.SimpleRNN(16, return_sequences=True)(inputs)\n",
    "x = layers.SimpleRNN(16, return_sequences=True)(x)\n",
    "outputs = layers.SimpleRNN(16)(x)"
   ]
  },
  {
   "cell_type": "markdown",
   "metadata": {
    "colab_type": "text"
   },
   "source": [
    "## Advanced use of recurrent neural networks"
   ]
  },
  {
   "cell_type": "markdown",
   "metadata": {
    "colab_type": "text"
   },
   "source": [
    "### Using recurrent dropout to fight overfitting"
   ]
  },
  {
   "cell_type": "markdown",
   "metadata": {
    "colab_type": "text"
   },
   "source": [
    "**Training and evaluating a dropout-regularized LSTM**"
   ]
  },
  {
   "cell_type": "code",
   "execution_count": null,
   "metadata": {
    "colab_type": "code"
   },
   "outputs": [],
   "source": [
    "inputs = keras.Input(shape=(sequence_length, raw_data.shape[-1]))\n",
    "x = layers.LSTM(32, recurrent_dropout=0.25)(inputs)\n",
    "x = layers.Dropout(0.5)(x)\n",
    "outputs = layers.Dense(1)(x)\n",
    "model = keras.Model(inputs, outputs)\n",
    "\n",
    "callbacks = [\n",
    "    keras.callbacks.ModelCheckpoint(\"jena_lstm_dropout.keras\",\n",
    "                                    save_best_only=True)\n",
    "]\n",
    "model.compile(optimizer=\"rmsprop\", loss=\"mse\", metrics=[\"mae\"])\n",
    "history = model.fit(train_dataset,\n",
    "                    epochs=50,\n",
    "                    validation_data=val_dataset,\n",
    "                    callbacks=callbacks)"
   ]
  },
  {
   "cell_type": "code",
   "execution_count": null,
   "metadata": {
    "colab_type": "code"
   },
   "outputs": [],
   "source": [
    "inputs = keras.Input(shape=(sequence_length, num_features))\n",
    "x = layers.LSTM(32, recurrent_dropout=0.2, unroll=True)(inputs)"
   ]
  },
  {
   "cell_type": "markdown",
   "metadata": {
    "colab_type": "text"
   },
   "source": [
    "### Stacking recurrent layers"
   ]
  },
  {
   "cell_type": "markdown",
   "metadata": {
    "colab_type": "text"
   },
   "source": [
    "**Training and evaluating a dropout-regularized, stacked GRU model**"
   ]
  },
  {
   "cell_type": "code",
   "execution_count": null,
   "metadata": {
    "colab_type": "code"
   },
   "outputs": [],
   "source": [
    "inputs = keras.Input(shape=(sequence_length, raw_data.shape[-1]))\n",
    "x = layers.GRU(32, recurrent_dropout=0.5, return_sequences=True)(inputs)\n",
    "x = layers.GRU(32, recurrent_dropout=0.5)(x)\n",
    "x = layers.Dropout(0.5)(x)\n",
    "outputs = layers.Dense(1)(x)\n",
    "model = keras.Model(inputs, outputs)\n",
    "\n",
    "callbacks = [\n",
    "    keras.callbacks.ModelCheckpoint(\"jena_stacked_gru_dropout.keras\",\n",
    "                                    save_best_only=True)\n",
    "]\n",
    "model.compile(optimizer=\"rmsprop\", loss=\"mse\", metrics=[\"mae\"])\n",
    "history = model.fit(train_dataset,\n",
    "                    epochs=50,\n",
    "                    validation_data=val_dataset,\n",
    "                    callbacks=callbacks)\n",
    "model = keras.models.load_model(\"jena_stacked_gru_dropout.keras\")\n",
    "print(f\"Test MAE: {model.evaluate(test_dataset)[1]:.2f}\")"
   ]
  },
  {
   "cell_type": "markdown",
   "metadata": {
    "colab_type": "text"
   },
   "source": [
    "### Using bidirectional RNNs"
   ]
  },
  {
   "cell_type": "markdown",
   "metadata": {
    "colab_type": "text"
   },
   "source": [
    "**Training and evaluating a bidirectional LSTM**"
   ]
  },
  {
   "cell_type": "code",
   "execution_count": null,
   "metadata": {
    "colab_type": "code"
   },
   "outputs": [],
   "source": [
    "inputs = keras.Input(shape=(sequence_length, raw_data.shape[-1]))\n",
    "x = layers.Bidirectional(layers.LSTM(16))(inputs)\n",
    "outputs = layers.Dense(1)(x)\n",
    "model = keras.Model(inputs, outputs)\n",
    "\n",
    "model.compile(optimizer=\"rmsprop\", loss=\"mse\", metrics=[\"mae\"])\n",
    "history = model.fit(train_dataset,\n",
    "                    epochs=10,\n",
    "                    validation_data=val_dataset)"
   ]
  },
  {
   "cell_type": "markdown",
   "metadata": {
    "colab_type": "text"
   },
   "source": [
    "### *_Going even further_*"
   ]
  },
  {
   "cell_type": "markdown",
   "metadata": {
    "colab_type": "text"
   },
   "source": [
    "## Chapter summary"
   ]
  }
 ],
 "metadata": {
  "colab": {
   "collapsed_sections": [],
   "name": "dlp10_dl_for_timeseries",
   "private_outputs": false,
   "provenance": [],
   "toc_visible": true
  },
  "kernelspec": {
   "display_name": "Python 3",
   "language": "python",
   "name": "python3"
  },
  "language_info": {
   "codemirror_mode": {
    "name": "ipython",
    "version": 3
   },
   "file_extension": ".py",
   "mimetype": "text/x-python",
   "name": "python",
   "nbconvert_exporter": "python",
   "pygments_lexer": "ipython3",
   "version": "3.8.5"
  }
 },
 "nbformat": 4,
 "nbformat_minor": 1
}
