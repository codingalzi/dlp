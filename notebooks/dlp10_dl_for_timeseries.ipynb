{
 "cells": [
  {
   "cell_type": "markdown",
   "metadata": {
    "colab_type": "text"
   },
   "source": [
    "# 10장 시계열 데이터와 순환 신경망"
   ]
  },
  {
   "cell_type": "markdown",
   "metadata": {
    "colab_type": "text"
   },
   "source": [
    "**감사말**: 프랑소와 숄레의 [Deep Learning with Python, Second Edition](https://www.manning.com/books/deep-learning-with-python-second-edition?a_aid=keras&a_bid=76564dff) 10장에 사용된 코드에 대한 설명을 담고 있으며 텐서플로우 2.6 버전에서 작성되었습니다. 소스코드를 공개한 저자에게 감사드립니다.\n",
    "\n",
    "**tensorflow 버전과 GPU 확인**\n",
    "- 구글 코랩 설정: '런타임 -> 런타임 유형 변경' 메뉴에서 GPU 지정 후 아래 명령어 실행 결과 확인\n",
    "\n",
    "    ```\n",
    "    !nvidia-smi\n",
    "    ```\n",
    "\n",
    "- 사용되는 tensorflow 버전 확인\n",
    "\n",
    "    ```python\n",
    "    import tensorflow as tf\n",
    "    tf.__version__\n",
    "    ```\n",
    "- tensorflow가 GPU를 사용하는지 여부 확인\n",
    "\n",
    "    ```python\n",
    "    tf.config.list_physical_devices('GPU')\n",
    "    ```"
   ]
  },
  {
   "cell_type": "markdown",
   "metadata": {},
   "source": [
    "## 주요내용"
   ]
  },
  {
   "cell_type": "markdown",
   "metadata": {},
   "source": [
    "- 시계열 데이터 머신러닝 과제 예제\n",
    "- 순환신경망(RNN, recurrent neural network) 이해\n",
    "- 온도 예측 RNN 모델 구현\n",
    "- 고급 RNN 활용 패턴"
   ]
  },
  {
   "cell_type": "markdown",
   "metadata": {
    "colab_type": "text"
   },
   "source": [
    "## 10.1 시계열 데이터 예제"
   ]
  },
  {
   "cell_type": "markdown",
   "metadata": {},
   "source": [
    "**시계열**(timeseries)은 일정 간격으로 측정된 값들로 이루어진 데이터이다. \n",
    "\n",
    "- 일일 단위 증시 가격\n",
    "- 도시의 시간당 소비 전력\n",
    "- 매장의 주별 판매량"
   ]
  },
  {
   "cell_type": "markdown",
   "metadata": {},
   "source": [
    "시계열은 자연현상 및 사람들의 일상에서 쉽게 구할 수 있다.\n",
    "\n",
    "- 지진 활동\n",
    "- 물고기 개체수\n",
    "- 지역 날씨\n",
    "- 웹사이트 방문자수\n",
    "- 국내총생산(GDP)"
   ]
  },
  {
   "cell_type": "markdown",
   "metadata": {},
   "source": [
    "시계열과 관련된 대표적인 과제는 **예측**(forcasting)이다. \n",
    "예를 들어, 몇 시간 후의 소비 전력, 몇 달 후의 영업 이익, 며칠 뒤의 날씨 등을 예측하는 일이다. \n",
    "이외에 시계열과 관련된 과제는 다음과 같다.\n",
    "\n",
    "- 분류(classification): 웹사이트 방문자의 활동 이력을 보고 사람인지 여부 판단\n",
    "- 이벤트 탐지(event detection): 오디오 스트림 감시 도중 \"Ok Google\", \"Hey Alexa\", \"시리야\" 등 핫워드(hotword) 탐지\n",
    "- 이상치 탐지(anomaly detection): 생산라인 중에 발생하는 특이현상, 회사 네트워크 상에 발생하는 특이 활동 등 탐지.\n",
    "    비지도 학습 활용."
   ]
  },
  {
   "cell_type": "markdown",
   "metadata": {
    "colab_type": "text"
   },
   "source": [
    "## 10.2 예제: 온도 예측"
   ]
  },
  {
   "cell_type": "markdown",
   "metadata": {},
   "source": [
    "나머지 이야기는 24시간 이후의 온도를 예측하는 모델을 구현하는 것이다. \n",
    "적절한 모델 구현과정을 통해 기존에 사용했던 밀집 연결 모델, 합성곱 모델 등은 적절하지 않고 \n",
    "시계열 데이터에 대한 새로운 접근방식을 사용하는 **순환 신경망**(recurrent neural network, RNN)이\n",
    "훨씬 잘 작동함을 보게 될 것이다. "
   ]
  },
  {
   "cell_type": "markdown",
   "metadata": {},
   "source": [
    "### 데이터셋 준비"
   ]
  },
  {
   "cell_type": "markdown",
   "metadata": {},
   "source": [
    "독일 예나(Jena)시에 위치한 막스-플랑크(Max-Planck) 생지화확(Biogeochemistry) 연구소가\n",
    "수 년동안 온도, 기압, 풍향 등 14 종류의 기상 데이터를 10분 단위로 측정해서 수집한 데이터셋이다. \n",
    "원래 2003년부터 측정하였지만 여기서는 2009-2016년 데이터만 이용한다. "
   ]
  },
  {
   "cell_type": "markdown",
   "metadata": {},
   "source": [
    "**zip 파일 다운로드 및 압축풀기**\n",
    "\n",
    "\"jena_climate_2009_2016.csv\" 파일이 생성된다."
   ]
  },
  {
   "cell_type": "code",
   "execution_count": 1,
   "metadata": {},
   "outputs": [
    {
     "name": "stdout",
     "output_type": "stream",
     "text": [
      "100% [........................................................................] 13565642 / 13565642"
     ]
    }
   ],
   "source": [
    "if 'google.colab' in str(get_ipython()):\n",
    "    !wget https://s3.amazonaws.com/keras-datasets/jena_climate_2009_2016.csv.zip\n",
    "    !unzip jena_climate_2009_2016.csv.zip\n",
    "else: \n",
    "    try: \n",
    "        import wget, zipfile\n",
    "    except ModuleNotFoundError: \n",
    "        !pip install wget\n",
    "        \n",
    "    import wget, zipfile\n",
    "    wget.download('https://s3.amazonaws.com/keras-datasets/jena_climate_2009_2016.csv.zip')\n",
    "    with zipfile.ZipFile('jena_climate_2009_2016.csv.zip', 'r') as zip_ref:\n",
    "        zip_ref.extractall('./')"
   ]
  },
  {
   "cell_type": "markdown",
   "metadata": {
    "colab_type": "text"
   },
   "source": [
    "**예나(Jena) 날씨 데이터셋 살펴보기**\n",
    "\n",
    "파일을 열어 줄(line) 단위로 쪼갠다."
   ]
  },
  {
   "cell_type": "code",
   "execution_count": 2,
   "metadata": {
    "colab_type": "code"
   },
   "outputs": [],
   "source": [
    "import os\n",
    "fname = os.path.join(\"jena_climate_2009_2016.csv\")\n",
    "\n",
    "with open(fname) as f:\n",
    "    data = f.read()\n",
    "\n",
    "lines = data.split(\"\\n\")"
   ]
  },
  {
   "cell_type": "markdown",
   "metadata": {},
   "source": [
    "첫째 줄은 날짜와 시간 이외에 14개의 특성명이 쉼표(콤마)로 구분되어 있으며,\n",
    "총 420,451개의 데이터를 포함한다."
   ]
  },
  {
   "cell_type": "code",
   "execution_count": 3,
   "metadata": {
    "colab_type": "code"
   },
   "outputs": [],
   "source": [
    "header = lines[0].split(\",\")\n",
    "lines = lines[1:]"
   ]
  },
  {
   "cell_type": "code",
   "execution_count": 4,
   "metadata": {
    "colab_type": "code"
   },
   "outputs": [
    {
     "name": "stdout",
     "output_type": "stream",
     "text": [
      "['\"Date Time\"', '\"p (mbar)\"', '\"T (degC)\"', '\"Tpot (K)\"', '\"Tdew (degC)\"', '\"rh (%)\"', '\"VPmax (mbar)\"', '\"VPact (mbar)\"', '\"VPdef (mbar)\"', '\"sh (g/kg)\"', '\"H2OC (mmol/mol)\"', '\"rho (g/m**3)\"', '\"wv (m/s)\"', '\"max. wv (m/s)\"', '\"wd (deg)\"']\n"
     ]
    }
   ],
   "source": [
    "print(header)"
   ]
  },
  {
   "cell_type": "code",
   "execution_count": 5,
   "metadata": {
    "colab_type": "code"
   },
   "outputs": [
    {
     "name": "stdout",
     "output_type": "stream",
     "text": [
      "420451\n"
     ]
    }
   ],
   "source": [
    "print(len(lines))"
   ]
  },
  {
   "cell_type": "markdown",
   "metadata": {},
   "source": [
    "첫째 데이터는 2009년 1월 1일 0시 10분에 측정되었다."
   ]
  },
  {
   "cell_type": "code",
   "execution_count": 6,
   "metadata": {},
   "outputs": [
    {
     "data": {
      "text/plain": [
       "'01.01.2009 00:10:00,996.52,-8.02,265.40,-8.90,93.30,3.33,3.11,0.22,1.94,3.12,1307.75,1.03,1.75,152.30'"
      ]
     },
     "execution_count": 6,
     "metadata": {},
     "output_type": "execute_result"
    }
   ],
   "source": [
    "lines[0]"
   ]
  },
  {
   "cell_type": "code",
   "execution_count": 7,
   "metadata": {},
   "outputs": [
    {
     "data": {
      "text/plain": [
       "['01.01.2009 00:10:00',\n",
       " '996.52',\n",
       " '-8.02',\n",
       " '265.40',\n",
       " '-8.90',\n",
       " '93.30',\n",
       " '3.33',\n",
       " '3.11',\n",
       " '0.22',\n",
       " '1.94',\n",
       " '3.12',\n",
       " '1307.75',\n",
       " '1.03',\n",
       " '1.75',\n",
       " '152.30']"
      ]
     },
     "execution_count": 7,
     "metadata": {},
     "output_type": "execute_result"
    }
   ],
   "source": [
    "lines[0].split(',')"
   ]
  },
  {
   "cell_type": "markdown",
   "metadata": {},
   "source": [
    "2번 인덱스 항목이 섭씨 온도이다. "
   ]
  },
  {
   "cell_type": "code",
   "execution_count": 8,
   "metadata": {},
   "outputs": [
    {
     "data": {
      "text/plain": [
       "'-8.02'"
      ]
     },
     "execution_count": 8,
     "metadata": {},
     "output_type": "execute_result"
    }
   ],
   "source": [
    "lines[0].split(',')[2]"
   ]
  },
  {
   "cell_type": "markdown",
   "metadata": {
    "colab_type": "text"
   },
   "source": [
    "**넘파이 어레이로 변환**"
   ]
  },
  {
   "cell_type": "code",
   "execution_count": 9,
   "metadata": {
    "colab_type": "code"
   },
   "outputs": [],
   "source": [
    "import numpy as np\n",
    "\n",
    "temperature = np.zeros((len(lines),))\n",
    "raw_data = np.zeros((len(lines), len(header) - 1))\n",
    "\n",
    "for i, line in enumerate(lines):\n",
    "    values = [float(x) for x in line.split(\",\")[1:]]\n",
    "\n",
    "    temperature[i] = values[1]    # i 번째 온도\n",
    "    raw_data[i, :] = values[:]    # i 번째 데이터"
   ]
  },
  {
   "cell_type": "markdown",
   "metadata": {
    "colab_type": "text"
   },
   "source": [
    "**온도 변화 그래프**"
   ]
  },
  {
   "cell_type": "code",
   "execution_count": 10,
   "metadata": {
    "colab_type": "code"
   },
   "outputs": [
    {
     "data": {
      "text/plain": [
       "[<matplotlib.lines.Line2D at 0x1ee33d604c0>]"
      ]
     },
     "execution_count": 10,
     "metadata": {},
     "output_type": "execute_result"
    },
    {
     "data": {
      "image/png": "[encoded data removed]",
      "text/plain": [
       "<Figure size 432x288 with 1 Axes>"
      ]
     },
     "metadata": {
      "needs_background": "light"
     },
     "output_type": "display_data"
    }
   ],
   "source": [
    "from matplotlib import pyplot as plt\n",
    "\n",
    "plt.plot(range(len(temperature)), temperature)"
   ]
  },
  {
   "cell_type": "markdown",
   "metadata": {
    "colab_type": "text"
   },
   "source": [
    "**처음 10일동안의 온도 변화**\n",
    "\n",
    "한 시간에 6번, 하루 24시간, 10일동안 측정 횟수는 `6 * 24 * 10 = 1,440`이다.\n",
    "\n",
    "- 1월 1일 - 1월 10일 기간동안 측정된 온도라 상당히 낮다.\n",
    "- 마지막 4일 동안은 일 단위 온도 변화가 주기성을 띈다. \n",
    "\n",
    "**주기성**(periodicity)은 시계열 데이터의 기본 특성 중 하나이다.\n",
    "월별 주기성은 매우 일관성을 갖는다. \n",
    "지난 몇 달동안의 데이터를 이용하여 다음 달의 평균 온도를 예측하는 일은 상대적으로 쉽다.\n",
    "반면에 일 단위의 예측은 아래 그래프에서 보듯이 훨씬 혼잡하다. "
   ]
  },
  {
   "cell_type": "code",
   "execution_count": 11,
   "metadata": {
    "colab_type": "code"
   },
   "outputs": [
    {
     "data": {
      "text/plain": [
       "[<matplotlib.lines.Line2D at 0x1ee34239b50>]"
      ]
     },
     "execution_count": 11,
     "metadata": {},
     "output_type": "execute_result"
    },
    {
     "data": {
      "image/png": "[encoded data removed]",
      "text/plain": [
       "<Figure size 432x288 with 1 Axes>"
      ]
     },
     "metadata": {
      "needs_background": "light"
     },
     "output_type": "display_data"
    }
   ],
   "source": [
    "plt.plot(range(1440), temperature[:1440])"
   ]
  },
  {
   "cell_type": "markdown",
   "metadata": {
    "colab_type": "text"
   },
   "source": [
    "**훈련셋, 검증셋, 테스트셋 크기**\n",
    "\n",
    "- 훈련셋: 전체의 50%\n",
    "- 검증셋: 전체의 25%\n",
    "- 테스트셋: 전체의 25%\n",
    "\n",
    "미래에 대한 예측을 실행하므로 훈련셋, 검증셋, 테스트셋 순으로 \n",
    "보다 오래된 데이터를 사용한다. "
   ]
  },
  {
   "cell_type": "code",
   "execution_count": 12,
   "metadata": {
    "colab_type": "code"
   },
   "outputs": [
    {
     "name": "stdout",
     "output_type": "stream",
     "text": [
      "num_train_samples:\t 210225\n",
      "num_val_samples:\t 105112\n",
      "num_test_samples:\t 105114\n"
     ]
    }
   ],
   "source": [
    "num_train_samples = int(0.5 * len(raw_data))     # 전체의 50%\n",
    "num_val_samples   = int(0.25 * len(raw_data))    # 전체의 25%\n",
    "num_test_samples  = len(raw_data) - num_train_samples - num_val_samples\n",
    "\n",
    "print(\"num_train_samples:\\t\", num_train_samples)\n",
    "print(\"num_val_samples:\\t\", num_val_samples)\n",
    "print(\"num_test_samples:\\t\", num_test_samples)"
   ]
  },
  {
   "cell_type": "markdown",
   "metadata": {
    "colab_type": "text"
   },
   "source": [
    "### 데이터 전처리"
   ]
  },
  {
   "cell_type": "markdown",
   "metadata": {},
   "source": [
    "시계열 데이터를 전처리 하려면 해결해야 할 문제를 명확히 지정해야 한다.\n",
    "여기서는 지난 5일치의 날씨 데이터를 이용하여 앞으로 24시간 후의 온도를 예측하는 모델을 구현하고자 한다.\n",
    "따라서 이 목적을 위한 시계열 데이터의 입력 샘플은 지난 5일치의 날씨 데이터를 하나의 시퀀스로 묶은 데이터이고,\n",
    "타깃은 해당 시퀀스보다 24시간 앞선 데이터의 온도이어야 한다. \n",
    "\n",
    "5일 단위의 시퀀스와 타깃을 정하기 전에 먼저 기존 데이터셋을 정규화 한다.\n",
    "즉, 특성별로 평균은 0, 표준편차는 1로 변환한다.\n",
    "\n",
    "**주의사항**: 훈련셋의 평균값과 표준편차를 이용하여 모든 데이터셋을 정규화해야 한다.\n",
    "앞서 언급한 것처럼 시계열 데이터의 훈련셋은 이른 시점에서의 데이터를 활용한다."
   ]
  },
  {
   "cell_type": "markdown",
   "metadata": {
    "colab_type": "text"
   },
   "source": [
    "**데이터 정규화**"
   ]
  },
  {
   "cell_type": "code",
   "execution_count": 13,
   "metadata": {
    "colab_type": "code"
   },
   "outputs": [],
   "source": [
    "# 훈련셋의 평균\n",
    "mean = raw_data[:num_train_samples].mean(axis=0)\n",
    "raw_data -= mean\n",
    "\n",
    "# 훈련셋의 표준편차\n",
    "std = raw_data[:num_train_samples].std(axis=0)\n",
    "raw_data /= std"
   ]
  },
  {
   "cell_type": "markdown",
   "metadata": {},
   "source": [
    "**5일 단위 시퀀스 데이터 준비**"
   ]
  },
  {
   "cell_type": "markdown",
   "metadata": {},
   "source": [
    "앞서 언급한 문제의 해결을 위한 모델을 구현하려면\n",
    "5일 단위 시퀀스 데이터를 준비해야 하지만\n",
    "`timeseries_dataset_from_array()` 함수를 활용하면 아주 쉽게 해결된다.\n",
    "함수에 사용된 인자의 역할은 다음과 같다.\n",
    "\n",
    "- `data`: 선택 대상 데이터셋 전체\n",
    "- `targets`: 선택 대상 데이터셋 전체\n",
    "- `sampling_rate`: 표본 비율. 몇 개 중에 하나를 선택할 것인지 지정.\n",
    "- `sequence_length`: 시퀀스 샘플 길이\n",
    "- `shuffle=True`: 생성된 시퀀스들의 순서를 무작위하게 섞음.\n",
    "- `batch_size`: 배치 크기. 생성된 시퀀스들을 배치로 묶음.\n",
    "- `start_index`: 표본 추출 대상 시작 구간\n",
    "- `end_index`: 표본 추출 대상 끝 구간"
   ]
  },
  {
   "cell_type": "code",
   "execution_count": 14,
   "metadata": {
    "colab_type": "code"
   },
   "outputs": [],
   "source": [
    "from tensorflow import keras\n",
    "\n",
    "# 1시간에 하나의 데이터 선택\n",
    "sampling_rate = 6\n",
    "\n",
    "# 입력 데이터 시퀀스: 지난 5일치(120시간) 온도 데이터\n",
    "sequence_length = 120\n",
    "\n",
    "# 타깃 설정:24시간 이후의 온도. 지연(delay)을 6일치로 지정\n",
    "delay = sampling_rate * (sequence_length + 24 - 1)\n",
    "\n",
    "# 배치 크기\n",
    "batch_size = 256\n",
    "\n",
    "# 훈련셋\n",
    "train_dataset = keras.utils.timeseries_dataset_from_array(\n",
    "    data=raw_data[:-delay],\n",
    "    targets=temperature[delay:],\n",
    "    sampling_rate=sampling_rate,\n",
    "    sequence_length=sequence_length,\n",
    "    shuffle=True, # 생성된 시퀀스들의 순서 무작위화\n",
    "    batch_size=batch_size,\n",
    "    start_index=0,\n",
    "    end_index=num_train_samples)\n",
    "\n",
    "# 검증셋\n",
    "val_dataset = keras.utils.timeseries_dataset_from_array(\n",
    "    data=raw_data[:-delay],\n",
    "    targets=temperature[delay:],\n",
    "    sampling_rate=sampling_rate,\n",
    "    sequence_length=sequence_length,\n",
    "    shuffle=True,\n",
    "    batch_size=batch_size,\n",
    "    start_index=num_train_samples,\n",
    "    end_index=num_train_samples + num_val_samples)\n",
    "\n",
    "# 테스트셋\n",
    "test_dataset = keras.utils.timeseries_dataset_from_array(\n",
    "    data=raw_data[:-delay],\n",
    "    targets=temperature[delay:],\n",
    "    sampling_rate=sampling_rate,\n",
    "    sequence_length=sequence_length,\n",
    "    shuffle=True,\n",
    "    batch_size=batch_size,\n",
    "    start_index=num_train_samples + num_val_samples)"
   ]
  },
  {
   "cell_type": "markdown",
   "metadata": {
    "colab_type": "text"
   },
   "source": [
    "생성된 새로운 데이터셋은 훈련셋의 샘플과 타깃을 함께 배치 단위로 묶여있다.\n",
    "예를 들어, 훈련셋의 첫째 배치의 모양은 다음과 같다.\n",
    "\n",
    "- 배치 크기: 256\n",
    "- 시퀀스 샘플 모양: `(120, 14)`\n",
    "    - 14개의 특성을 갖는 날씨 데이터 5일치"
   ]
  },
  {
   "cell_type": "code",
   "execution_count": 15,
   "metadata": {
    "colab_type": "code"
   },
   "outputs": [
    {
     "name": "stdout",
     "output_type": "stream",
     "text": [
      "샘플 모양: (256, 120, 14)\n",
      "타깃 모양: (256,)\n"
     ]
    }
   ],
   "source": [
    "for samples, targets in train_dataset:\n",
    "    print(\"샘플 모양:\", samples.shape)\n",
    "    print(\"타깃 모양:\", targets.shape)\n",
    "    break"
   ]
  },
  {
   "cell_type": "markdown",
   "metadata": {},
   "source": [
    "#### 참고: `timeseries_dataset_from_array()` 활용법"
   ]
  },
  {
   "cell_type": "markdown",
   "metadata": {},
   "source": [
    "아래 코드는 넘파이 어레이를 이용하여 \n",
    "`timeseries_dataset_from_array()` 함수의 작동법을 설명한다."
   ]
  },
  {
   "cell_type": "code",
   "execution_count": 16,
   "metadata": {},
   "outputs": [
    {
     "data": {
      "text/plain": [
       "array([0, 1, 2, 3, 4, 5, 6, 7, 8, 9])"
      ]
     },
     "execution_count": 16,
     "metadata": {},
     "output_type": "execute_result"
    }
   ],
   "source": [
    "int_sequence = np.arange(10)\n",
    "int_sequence"
   ]
  },
  {
   "cell_type": "code",
   "execution_count": 17,
   "metadata": {},
   "outputs": [],
   "source": [
    "dummy_dataset = keras.utils.timeseries_dataset_from_array(\n",
    "    data=int_sequence[:-3],\n",
    "    targets=int_sequence[3:],\n",
    "    sequence_length=3,\n",
    "    batch_size=2,\n",
    ")"
   ]
  },
  {
   "cell_type": "markdown",
   "metadata": {},
   "source": [
    "길이가 3인 시퀀스 샘플을 2개씩 묶은 배치 3개가 만들어진다. "
   ]
  },
  {
   "cell_type": "code",
   "execution_count": 18,
   "metadata": {
    "colab_type": "code"
   },
   "outputs": [
    {
     "name": "stdout",
     "output_type": "stream",
     "text": [
      "배치 0:\n",
      "  samples shape: (2, 3)\n",
      "  targets shape: (2,)\n",
      "\n",
      "배치 1:\n",
      "  samples shape: (2, 3)\n",
      "  targets shape: (2,)\n",
      "\n",
      "배치 2:\n",
      "  samples shape: (1, 3)\n",
      "  targets shape: (1,)\n",
      "\n"
     ]
    }
   ],
   "source": [
    "i = 0\n",
    "for inputs, targets in dummy_dataset:\n",
    "    print(f\"배치 {i}:\")\n",
    "    print(\"  samples shape:\", inputs.shape)\n",
    "    print(\"  targets shape:\", targets.shape)\n",
    "    print()\n",
    "    i += 1"
   ]
  },
  {
   "cell_type": "markdown",
   "metadata": {},
   "source": [
    "배치 별 샘플과 타깃을 확인하면 다음과 같다."
   ]
  },
  {
   "cell_type": "code",
   "execution_count": 19,
   "metadata": {},
   "outputs": [
    {
     "name": "stdout",
     "output_type": "stream",
     "text": [
      "배치 0:\n",
      "  샘플: [0, 1, 2]   타깃: 3\n",
      "  샘플: [1, 2, 3]   타깃: 4\n",
      "\n",
      "배치 2:\n",
      "  샘플: [2, 3, 4]   타깃: 5\n",
      "  샘플: [3, 4, 5]   타깃: 6\n",
      "\n",
      "배치 2:\n",
      "  샘플: [4, 5, 6]   타깃: 7\n",
      "\n"
     ]
    }
   ],
   "source": [
    "i = 0\n",
    "for inputs, targets in dummy_dataset:\n",
    "    print(f\"배치 {i}:\")\n",
    "    for i in range(inputs.shape[0]):\n",
    "        print(\"  샘플:\", [int(x) for x in inputs[i]], \"  타깃:\", int(targets[i]))\n",
    "    \n",
    "    print()\n",
    "    i += 1"
   ]
  },
  {
   "cell_type": "markdown",
   "metadata": {
    "colab_type": "text"
   },
   "source": [
    "### 베이스라인 설정"
   ]
  },
  {
   "cell_type": "markdown",
   "metadata": {},
   "source": [
    "모델 성능의 최저 기준선으로 24시간 후의 온도를 현재 온도로 예측하는 것을 사용한다.\n",
    "즉, 내일 이 시간 온도가 현재 온도와 별 차이가 없다는 가정을 이용한다. \n",
    "그러면 검증셋과 테스트셋에 대한 평균절대오차는 각각 2.44와 2.62이다."
   ]
  },
  {
   "cell_type": "code",
   "execution_count": 20,
   "metadata": {
    "colab_type": "code"
   },
   "outputs": [
    {
     "name": "stdout",
     "output_type": "stream",
     "text": [
      "검증셋 평균절대오차(MAE): 2.44\n",
      "테스트셋 평균절대오차(MAE): 2.62\n"
     ]
    }
   ],
   "source": [
    "def evaluate_naive_method(dataset):\n",
    "    total_abs_err = 0.\n",
    "    samples_seen = 0\n",
    "    for samples, targets in dataset:\n",
    "        preds = samples[:, -1, 1] * std[1] + mean[1]  # 원 데이터로 되돌리기\n",
    "        total_abs_err += np.sum(np.abs(preds - targets))\n",
    "        samples_seen += samples.shape[0]\n",
    "    return total_abs_err / samples_seen\n",
    "\n",
    "print(f\"검증셋 평균절대오차(MAE): {evaluate_naive_method(val_dataset):.2f}\")\n",
    "print(f\"테스트셋 평균절대오차(MAE): {evaluate_naive_method(test_dataset):.2f}\")"
   ]
  },
  {
   "cell_type": "markdown",
   "metadata": {
    "colab_type": "text"
   },
   "source": [
    "### 밀집 연결 모델 성능"
   ]
  },
  {
   "cell_type": "markdown",
   "metadata": {},
   "source": [
    "밀집층만을 사용하는 모델의 성능은 베이스라인과 비슷하게 나온다.\n",
    "\n",
    "- 평균절대오차는 모델평가지표로 사용한다.\n",
    "- 손실함수는 (미분가능한 함수인) 평균제곱근오차를 사용한다.\n",
    "- 첫째 층으로 사용된 `Flatten`에 의해 시간 흐름에 대한 정보를 사실상 잃어버린다. "
   ]
  },
  {
   "cell_type": "code",
   "execution_count": 21,
   "metadata": {
    "colab_type": "code"
   },
   "outputs": [
    {
     "name": "stdout",
     "output_type": "stream",
     "text": [
      "Epoch 1/10\n",
      "819/819 [==============================] - 6s 5ms/step - loss: 12.6600 - mae: 2.7477 - val_loss: 10.6344 - val_mae: 2.5775\n",
      "Epoch 2/10\n",
      "819/819 [==============================] - 4s 5ms/step - loss: 9.0460 - mae: 2.3644 - val_loss: 12.7490 - val_mae: 2.8197\n",
      "Epoch 3/10\n",
      "819/819 [==============================] - 4s 5ms/step - loss: 8.3185 - mae: 2.2700 - val_loss: 10.2999 - val_mae: 2.5281\n",
      "Epoch 4/10\n",
      "819/819 [==============================] - 4s 5ms/step - loss: 7.7961 - mae: 2.1977 - val_loss: 15.1027 - val_mae: 3.0967\n",
      "Epoch 5/10\n",
      "819/819 [==============================] - 4s 5ms/step - loss: 7.4806 - mae: 2.1528 - val_loss: 10.6180 - val_mae: 2.5728\n",
      "Epoch 6/10\n",
      "819/819 [==============================] - 5s 5ms/step - loss: 7.2363 - mae: 2.1167 - val_loss: 13.3160 - val_mae: 2.8940\n",
      "Epoch 7/10\n",
      "819/819 [==============================] - 4s 5ms/step - loss: 7.0089 - mae: 2.0845 - val_loss: 11.7474 - val_mae: 2.7028\n",
      "Epoch 8/10\n",
      "819/819 [==============================] - 4s 5ms/step - loss: 6.8566 - mae: 2.0635 - val_loss: 10.9386 - val_mae: 2.6150\n",
      "Epoch 9/10\n",
      "819/819 [==============================] - 4s 5ms/step - loss: 6.7168 - mae: 2.0417 - val_loss: 12.0503 - val_mae: 2.7556\n",
      "Epoch 10/10\n",
      "819/819 [==============================] - 4s 5ms/step - loss: 6.6083 - mae: 2.0239 - val_loss: 10.8157 - val_mae: 2.5974\n",
      "405/405 [==============================] - 1s 3ms/step - loss: 10.9068 - mae: 2.5849\n",
      "Test MAE: 2.58\n"
     ]
    }
   ],
   "source": [
    "from tensorflow import keras\n",
    "from tensorflow.keras import layers\n",
    "\n",
    "# 모델 구성\n",
    "inputs = keras.Input(shape=(sequence_length, raw_data.shape[-1]))\n",
    "x = layers.Flatten()(inputs) # 1차원 데이터로 변환하기\n",
    "x = layers.Dense(16, activation=\"relu\")(x)\n",
    "outputs = layers.Dense(1)(x)\n",
    "model = keras.Model(inputs, outputs)\n",
    "\n",
    "callbacks = [\n",
    "    keras.callbacks.ModelCheckpoint(\"jena_dense.keras\",\n",
    "                                    save_best_only=True)\n",
    "]\n",
    "\n",
    "# 모델 컴파일 및 실행\n",
    "model.compile(optimizer=\"rmsprop\", loss=\"mse\", metrics=[\"mae\"])\n",
    "\n",
    "history = model.fit(train_dataset,\n",
    "                    epochs=10,\n",
    "                    validation_data=val_dataset,\n",
    "                    callbacks=callbacks)\n",
    "\n",
    "# 최선 모델 활용\n",
    "model = keras.models.load_model(\"jena_dense.keras\")\n",
    "print(f\"Test MAE: {model.evaluate(test_dataset)[1]:.2f}\")"
   ]
  },
  {
   "cell_type": "markdown",
   "metadata": {
    "colab_type": "text"
   },
   "source": [
    "학습과정을 그래프로 나타내면 다음과 같다.\n",
    "진동에도 불구하고 베이스라인에 가까운 성능이 나오지만 \n",
    "하루 사이에 온도가 그리 급격히 바뀌지 않는다는\n",
    "베이스라인 모델에 사용된 직관이 활용된 것 같아 보이지는 않다."
   ]
  },
  {
   "cell_type": "code",
   "execution_count": 22,
   "metadata": {
    "colab_type": "code"
   },
   "outputs": [
    {
     "data": {
      "image/png": "[encoded data removed]",
      "text/plain": [
       "<Figure size 432x288 with 1 Axes>"
      ]
     },
     "metadata": {
      "needs_background": "light"
     },
     "output_type": "display_data"
    }
   ],
   "source": [
    "import matplotlib.pyplot as plt\n",
    "\n",
    "loss = history.history[\"mae\"]\n",
    "val_loss = history.history[\"val_mae\"]\n",
    "epochs = range(1, len(loss) + 1)\n",
    "\n",
    "plt.figure()\n",
    "plt.plot(epochs, loss, \"bo\", label=\"Training MAE\")\n",
    "plt.plot(epochs, val_loss, \"b\", label=\"Validation MAE\")\n",
    "plt.title(\"Training and validation MAE\")\n",
    "plt.legend()\n",
    "plt.show()"
   ]
  },
  {
   "cell_type": "markdown",
   "metadata": {
    "colab_type": "text"
   },
   "source": [
    "### 1D 합성곱 신경망 모델 성능"
   ]
  },
  {
   "cell_type": "markdown",
   "metadata": {},
   "source": [
    "`Conv1D` 층은 `Conv2D` 층에서 사용된 필터 개념을 1차원 텐서에 대해 동일한\n",
    "방식으로 적용한다. \n",
    "`MaxPooling1D` 층 또한 `MaxPooling2D`와 동일한 방식으로 작동한다.\n",
    "\n",
    "아래 모델은 `Conv1D`와 `MaxPooling1D` 층을 이용한 합성곱 신경망 모델을\n",
    "온도 예측에 활용한 결과를 보여준다.\n",
    "\n",
    "- 첫 `Conv1D`에 사용된 필터의 크기는 24이다. 이유는 24시간 이후의 온도를 예측하기 때문이다. \n",
    "- 이후 `MaxPooling1D`를 사용하면서 동시에 필터의 크기도 절반씩 줄여 나간다. "
   ]
  },
  {
   "cell_type": "code",
   "execution_count": 23,
   "metadata": {
    "colab_type": "code"
   },
   "outputs": [
    {
     "name": "stdout",
     "output_type": "stream",
     "text": [
      "Epoch 1/10\n",
      "819/819 [==============================] - 19s 8ms/step - loss: 21.8086 - mae: 3.6386 - val_loss: 17.7075 - val_mae: 3.3824\n",
      "Epoch 2/10\n",
      "819/819 [==============================] - 6s 7ms/step - loss: 14.9323 - mae: 3.0636 - val_loss: 15.6166 - val_mae: 3.1646\n",
      "Epoch 3/10\n",
      "819/819 [==============================] - 6s 7ms/step - loss: 13.7508 - mae: 2.9381 - val_loss: 14.2117 - val_mae: 2.9648\n",
      "Epoch 4/10\n",
      "819/819 [==============================] - 6s 7ms/step - loss: 12.9309 - mae: 2.8474 - val_loss: 15.3188 - val_mae: 3.0613\n",
      "Epoch 5/10\n",
      "819/819 [==============================] - 6s 7ms/step - loss: 12.2901 - mae: 2.7759 - val_loss: 13.9174 - val_mae: 2.9246\n",
      "Epoch 6/10\n",
      "819/819 [==============================] - 6s 7ms/step - loss: 11.7505 - mae: 2.7144 - val_loss: 14.5049 - val_mae: 2.9973\n",
      "Epoch 7/10\n",
      "819/819 [==============================] - 6s 7ms/step - loss: 11.2287 - mae: 2.6508 - val_loss: 14.0655 - val_mae: 2.9501\n",
      "Epoch 8/10\n",
      "819/819 [==============================] - 6s 7ms/step - loss: 10.8345 - mae: 2.6038 - val_loss: 13.9593 - val_mae: 2.9171\n",
      "Epoch 9/10\n",
      "819/819 [==============================] - 6s 7ms/step - loss: 10.5167 - mae: 2.5631 - val_loss: 14.1543 - val_mae: 2.9441\n",
      "Epoch 10/10\n",
      "819/819 [==============================] - 6s 7ms/step - loss: 10.2264 - mae: 2.5258 - val_loss: 13.4536 - val_mae: 2.8791\n",
      "405/405 [==============================] - 2s 4ms/step - loss: 14.5854 - mae: 3.0360\n",
      "Test MAE: 3.04\n"
     ]
    }
   ],
   "source": [
    "# 모델 구성\n",
    "inputs = keras.Input(shape=(sequence_length, raw_data.shape[-1]))\n",
    "x = layers.Conv1D(8, 24, activation=\"relu\")(inputs)\n",
    "x = layers.MaxPooling1D(2)(x)\n",
    "x = layers.Conv1D(8, 12, activation=\"relu\")(x)\n",
    "x = layers.MaxPooling1D(2)(x)\n",
    "x = layers.Conv1D(8, 6, activation=\"relu\")(x)\n",
    "x = layers.GlobalAveragePooling1D()(x)\n",
    "outputs = layers.Dense(1)(x)\n",
    "model = keras.Model(inputs, outputs)\n",
    "\n",
    "callbacks = [\n",
    "    keras.callbacks.ModelCheckpoint(\"jena_conv.keras\",\n",
    "                                    save_best_only=True)\n",
    "]\n",
    "\n",
    "# 모델 컴파일 및 실행\n",
    "model.compile(optimizer=\"rmsprop\", loss=\"mse\", metrics=[\"mae\"])\n",
    "\n",
    "history = model.fit(train_dataset,\n",
    "                    epochs=10,\n",
    "                    validation_data=val_dataset,\n",
    "                    callbacks=callbacks)\n",
    "\n",
    "# 최선 모델 활용\n",
    "model = keras.models.load_model(\"jena_conv.keras\")\n",
    "print(f\"Test MAE: {model.evaluate(test_dataset)[1]:.2f}\")"
   ]
  },
  {
   "cell_type": "markdown",
   "metadata": {
    "colab_type": "text"
   },
   "source": [
    "학습과정을 그래프로 나타내면\n",
    "매우 실망스러운 결과를 확인하게 된다.\n",
    "\n",
    "- 날씨 데이터는 이미지 데이터와는 달리 위치 독립적이지 않다.\n",
    "    실제로 시간대에 따라 동일한 패턴이 다른 의미를 가질 수 있다.\n",
    "- 날씨 데이터는 시간의 흐름에 민감하다. 오래된 데이터보다 최근 데이터가 보다 예측에 중요하다.\n",
    "    하지만 `Conv1D` 층은 이런 점을 활용하지 못한다. "
   ]
  },
  {
   "cell_type": "code",
   "execution_count": 24,
   "metadata": {
    "colab_type": "code"
   },
   "outputs": [
    {
     "data": {
      "image/png": "[encoded data removed]",
      "text/plain": [
       "<Figure size 432x288 with 1 Axes>"
      ]
     },
     "metadata": {
      "needs_background": "light"
     },
     "output_type": "display_data"
    }
   ],
   "source": [
    "import matplotlib.pyplot as plt\n",
    "\n",
    "loss = history.history[\"mae\"]\n",
    "val_loss = history.history[\"val_mae\"]\n",
    "epochs = range(1, len(loss) + 1)\n",
    "\n",
    "plt.figure()\n",
    "plt.plot(epochs, loss, \"bo\", label=\"Training MAE\")\n",
    "plt.plot(epochs, val_loss, \"b\", label=\"Validation MAE\")\n",
    "plt.title(\"Training and validation MAE\")\n",
    "plt.legend()\n",
    "plt.show()"
   ]
  },
  {
   "cell_type": "markdown",
   "metadata": {
    "colab_type": "text"
   },
   "source": [
    "### 간단한 순환 모델 성능"
   ]
  },
  {
   "cell_type": "markdown",
   "metadata": {
    "colab_type": "text"
   },
   "source": [
    "가장 간단한 순환 신경망 모델이더라도 베이스라인보다 좋은 성능을 보여준다는 것을 확인할 수 있다.\n",
    "\n",
    "- LSTM (장단기 메모리, Long Short Term Memory) 층: 시간 순서, 원인과 결과의 관계를 고려함."
   ]
  },
  {
   "cell_type": "code",
   "execution_count": 25,
   "metadata": {
    "colab_type": "code"
   },
   "outputs": [
    {
     "name": "stdout",
     "output_type": "stream",
     "text": [
      "Epoch 1/10\n",
      "819/819 [==============================] - 16s 11ms/step - loss: 39.7080 - mae: 4.5892 - val_loss: 12.4641 - val_mae: 2.6863\n",
      "Epoch 2/10\n",
      "819/819 [==============================] - 8s 10ms/step - loss: 11.2930 - mae: 2.6041 - val_loss: 9.7202 - val_mae: 2.4432\n",
      "Epoch 3/10\n",
      "819/819 [==============================] - 8s 10ms/step - loss: 9.9094 - mae: 2.4563 - val_loss: 9.4109 - val_mae: 2.4015\n",
      "Epoch 4/10\n",
      "819/819 [==============================] - 8s 10ms/step - loss: 9.3481 - mae: 2.3853 - val_loss: 9.1820 - val_mae: 2.3711\n",
      "Epoch 5/10\n",
      "819/819 [==============================] - 8s 10ms/step - loss: 9.0359 - mae: 2.3433 - val_loss: 9.3306 - val_mae: 2.4007\n",
      "Epoch 6/10\n",
      "819/819 [==============================] - 8s 10ms/step - loss: 8.7817 - mae: 2.3086 - val_loss: 9.1742 - val_mae: 2.3759\n",
      "Epoch 7/10\n",
      "819/819 [==============================] - 8s 10ms/step - loss: 8.5281 - mae: 2.2751 - val_loss: 9.5178 - val_mae: 2.4257\n",
      "Epoch 8/10\n",
      "819/819 [==============================] - 8s 10ms/step - loss: 8.2904 - mae: 2.2435 - val_loss: 9.5209 - val_mae: 2.4223\n",
      "Epoch 9/10\n",
      "819/819 [==============================] - 8s 10ms/step - loss: 8.1291 - mae: 2.2218 - val_loss: 9.8111 - val_mae: 2.4562\n",
      "Epoch 10/10\n",
      "819/819 [==============================] - 8s 10ms/step - loss: 8.0022 - mae: 2.2023 - val_loss: 9.8434 - val_mae: 2.4642\n",
      "405/405 [==============================] - 2s 5ms/step - loss: 10.7173 - mae: 2.5640\n",
      "Test MAE: 2.56\n"
     ]
    }
   ],
   "source": [
    "# 모델 구성\n",
    "inputs = keras.Input(shape=(sequence_length, raw_data.shape[-1]))\n",
    "\n",
    "# LSTM 층\n",
    "x = layers.LSTM(16)(inputs)\n",
    "\n",
    "# 출력층\n",
    "outputs = layers.Dense(1)(x)\n",
    "\n",
    "model = keras.Model(inputs, outputs)\n",
    "\n",
    "callbacks = [\n",
    "    keras.callbacks.ModelCheckpoint(\"jena_lstm.keras\",\n",
    "                                    save_best_only=True)\n",
    "]\n",
    "\n",
    "# 모델 컴파일 및 실행\n",
    "model.compile(optimizer=\"rmsprop\", loss=\"mse\", metrics=[\"mae\"])\n",
    "history = model.fit(train_dataset,\n",
    "                    epochs=10,\n",
    "                    validation_data=val_dataset,\n",
    "                    callbacks=callbacks)\n",
    "\n",
    "model = keras.models.load_model(\"jena_lstm.keras\")\n",
    "print(f\"Test MAE: {model.evaluate(test_dataset)[1]:.2f}\")"
   ]
  },
  {
   "cell_type": "markdown",
   "metadata": {
    "colab_type": "text"
   },
   "source": [
    "학습과정을 그래프로 나타내면 다음과 같으며, 드디어 베이스라인보다 (조금이나마) \n",
    "좋은 성능을 보인다. "
   ]
  },
  {
   "cell_type": "code",
   "execution_count": 26,
   "metadata": {
    "colab_type": "code"
   },
   "outputs": [
    {
     "data": {
      "image/png": "[encoded data removed]",
      "text/plain": [
       "<Figure size 432x288 with 1 Axes>"
      ]
     },
     "metadata": {
      "needs_background": "light"
     },
     "output_type": "display_data"
    }
   ],
   "source": [
    "import matplotlib.pyplot as plt\n",
    "\n",
    "loss = history.history[\"mae\"]\n",
    "val_loss = history.history[\"val_mae\"]\n",
    "epochs = range(1, len(loss) + 1)\n",
    "\n",
    "plt.figure()\n",
    "plt.plot(epochs, loss, \"bo\", label=\"Training MAE\")\n",
    "plt.plot(epochs, val_loss, \"b\", label=\"Validation MAE\")\n",
    "plt.title(\"Training and validation MAE\")\n",
    "plt.legend()\n",
    "plt.show()"
   ]
  },
  {
   "cell_type": "markdown",
   "metadata": {
    "colab_type": "text"
   },
   "source": [
    "## 10.3 순환 신경망 이해"
   ]
  },
  {
   "cell_type": "markdown",
   "metadata": {},
   "source": [
    "**순방향 신경망**"
   ]
  },
  {
   "cell_type": "markdown",
   "metadata": {},
   "source": [
    "밀집 연결 모델은 시퀀스 샘플을 모두 풀어서 시퀀스 내의 순서를 무시한다.\n",
    "합성곱 신경망 모델은 시퀀스 샘플을 통으로 하나의 값으로 처리하면서\n",
    "시퀀스에 포함된 값들 사이의 순서 특성을 제대로 활용하지 못한다. \n",
    "즉, 두 모델 모두 모델에 입력된 이전 샘플의 정보를 이후 샘플이 전혀 활용하지 못하고,\n",
    "하나의 샘플이 입력되면 바로 변환하고 다음 층으로 전달한다.\n",
    "이런 이유로 밀집 연결 모델과 합성곱 신경망과 \n",
    "같이 작동하는 모델을 **순방향 신경망**(feedforward network)라 부른다."
   ]
  },
  {
   "cell_type": "markdown",
   "metadata": {},
   "source": [
    "**순환 신경망(recurrent neural network)**"
   ]
  },
  {
   "cell_type": "markdown",
   "metadata": {},
   "source": [
    "순환 신경망 모델은 시퀀스을 한 번에 처리하는 대신\n",
    "포함된 항목들을 차례대로 처리할 때마다 얻은 정보를 바로 다음 층에\n",
    "그대로 전달하지 않고 다음 항목을 처리할 때 함께 활용한다.\n",
    "즉, 아래 그림이 보여주듯이 시퀀스 샘플을 항목에 대한 \n",
    "일종의 반복작업(loop)으로 처리하며, \n",
    "하나의 항목을 처리할 때 이전 항목을 처리한 결과를 활용한다. \n",
    "\n",
    "시퀀스 항목을 하나 처리할 때마다 다음 항목에 활용되는 정보를 \n",
    "**상태**(state)라 부른다.\n",
    "상태는 하나의 시퀀스를 처리할 때마다 초기화되며,\n",
    "이런 식으로 순환 신경망의 입력값은 시퀀스 샘플 단위로 처리된다."
   ]
  },
  {
   "cell_type": "markdown",
   "metadata": {},
   "source": [
    "<div align=\"center\"><img src=\"https://drek4537l1klr.cloudfront.net/chollet2/Figures/10-06.png\" style=\"width:25%;\"></div>\n",
    "\n",
    "그림 출처: [Deep Learning with Python(Manning MEAP)](https://www.manning.com/books/deep-learning-with-python-second-edition)"
   ]
  },
  {
   "cell_type": "markdown",
   "metadata": {},
   "source": [
    "### `SimpleRNN` 층 작동법"
   ]
  },
  {
   "cell_type": "markdown",
   "metadata": {},
   "source": [
    "앞서 설명한 순환 신경망 아이디어를 가장 간단하게 구현한 모델이며 작동과정은 아래 그림과 같다. \n",
    "\n",
    "- `t`: 타임스텝(time step). 하나의 시퀀스에서 항목의 순서를 가리킴.\n",
    "- `input_t`: 시퀀스의 `t` 번째 항목.\n",
    "- `state_t`: 시퀀스의 `t-1` 번째 항목에 대한 출력값.\n",
    "- `output_t`: `t` 번째 항목에 대한 출력값\n",
    "\n",
    "        output_t = activation(dot(Wo, input_t) + dot(Uo, state_t) + bo)\n",
    "        \n",
    "- `Wo`, `Uo`, `bo`는 학습되어야 하는 파라미터들이다."
   ]
  },
  {
   "cell_type": "markdown",
   "metadata": {},
   "source": [
    "<div align=\"center\"><img src=\"https://drek4537l1klr.cloudfront.net/chollet2/HighResolutionFigures/figure_10-7.png\" style=\"width:80%;\"></div>\n",
    "\n",
    "그림 출처: [Deep Learning with Python(Manning MEAP)](https://www.manning.com/books/deep-learning-with-python-second-edition)"
   ]
  },
  {
   "cell_type": "markdown",
   "metadata": {},
   "source": [
    "### 케라스 순환층 기본 사용법"
   ]
  },
  {
   "cell_type": "markdown",
   "metadata": {
    "colab_type": "text"
   },
   "source": [
    "순환층은 임의의 길이의 시퀀스를 처리할 수 있다."
   ]
  },
  {
   "cell_type": "code",
   "execution_count": 30,
   "metadata": {
    "colab_type": "code"
   },
   "outputs": [],
   "source": [
    "num_features = 14\n",
    "inputs = keras.Input(shape=(None, num_features)) # 임의의 길이의 시퀀스 처리\n",
    "outputs = layers.SimpleRNN(16)(inputs)"
   ]
  },
  {
   "cell_type": "markdown",
   "metadata": {
    "colab_type": "text"
   },
   "source": [
    "하지만 일정한 길이의 시퀀스만을 다룬다면 시퀀스 길이(steps)를 지정하는 것이 좋다.\n",
    "이유는 모델을 구성한 후에 `summary()` 메서드를 활용하여\n",
    "모델 훈련과정에 변환되는 텐서들의 모양을 정확히 추적할 수 있기 때문이다.\n",
    "\n",
    "순환층의 출력값은 층 생성자의 `return_sequences` 키워드 인자의 값에 따라\n",
    "시퀀스의 마지막 항목에 대한 출력값만 출력할지를 지정한다. "
   ]
  },
  {
   "cell_type": "markdown",
   "metadata": {
    "colab_type": "text"
   },
   "source": [
    "- `return_sequences=False`인 경우: 시퀀스의 마지막 항목에 대한 출력값만 출력"
   ]
  },
  {
   "cell_type": "code",
   "execution_count": 28,
   "metadata": {
    "colab_type": "code"
   },
   "outputs": [
    {
     "name": "stdout",
     "output_type": "stream",
     "text": [
      "(None, 16)\n"
     ]
    }
   ],
   "source": [
    "num_features = 14  # 특성 수\n",
    "steps = 120        # 시퀀스 길이 지정\n",
    "inputs = keras.Input(shape=(steps, num_features))\n",
    "outputs = layers.SimpleRNN(16, return_sequences=False)(inputs)  # 마지막 항목의 출력값만 사용\n",
    "print(outputs.shape)"
   ]
  },
  {
   "cell_type": "markdown",
   "metadata": {
    "colab_type": "text"
   },
   "source": [
    "- `return_sequences=True`인 경우: 시퀀스의 모든 항목에 대한 출력값을 출력"
   ]
  },
  {
   "cell_type": "code",
   "execution_count": 29,
   "metadata": {
    "colab_type": "code"
   },
   "outputs": [
    {
     "name": "stdout",
     "output_type": "stream",
     "text": [
      "(None, 120, 16)\n"
     ]
    }
   ],
   "source": [
    "num_features = 14  # 특성 수\n",
    "steps = 120        # 시퀀스 길이 지정\n",
    "inputs = keras.Input(shape=(steps, num_features))\n",
    "outputs = layers.SimpleRNN(16, return_sequences=True)(inputs)  # 모든 항목의 출력값 사용\n",
    "print(outputs.shape)"
   ]
  },
  {
   "cell_type": "markdown",
   "metadata": {
    "colab_type": "text"
   },
   "source": [
    "순환층 또한 스택으로 쌓을 수 있다.\n",
    "- 마지막 순환층을 제외한 모든 순환층은 `return_sequences=True`로 설정해야 함."
   ]
  },
  {
   "cell_type": "code",
   "execution_count": null,
   "metadata": {
    "colab_type": "code"
   },
   "outputs": [],
   "source": [
    "inputs = keras.Input(shape=(steps, num_features))\n",
    "x = layers.SimpleRNN(16, return_sequences=True)(inputs)\n",
    "x = layers.SimpleRNN(16, return_sequences=True)(x)\n",
    "outputs = layers.SimpleRNN(16)(x)"
   ]
  },
  {
   "cell_type": "markdown",
   "metadata": {},
   "source": [
    "### `LSTM` 층 작동법"
   ]
  },
  {
   "cell_type": "markdown",
   "metadata": {},
   "source": [
    "`SimpleRNN` 층은 실전에서 거의 사용되지 않는다.\n",
    "이유는 이론과는 달리 시퀀스 내의 초기 상태(state)가 제대로 전달되지 않기 때문이다.\n",
    "이 또한 역전파 과정에서 그레이디언트 소실이 발생하기 때문이다.\n",
    "이에 대한 해결책으로 잔차 연결과 유사한 아이디어가 적용된\n",
    "**LSTM**(Long Short Term Memory) 층이 1997년에 제시되었다. \n",
    "\n",
    "LSTM 층은 아래 그림에서 보듯이 장단기 메모리 모두 항목의 훈련에 활용된다. \n",
    "\n",
    "- `c_t`: 장기 메모리(carry)\n",
    "- `state_t`: 단기 메모리\n",
    "- `output_t`: `t` 번째 항목에 대한 출력값\n",
    "\n",
    "        output_t = activation(dot(Wo, input_t) + dot(Uo, state_t) + dot(Vo, c_t) + bo)\n",
    "        \n",
    "        c_{t+1} = i_t * k_t + c_t * f_t\n",
    "        \n",
    "        i_t = activation(dot(Ui, state_t) + dot(Wi, input_t) + bi)\n",
    "        f_t = activation(dot(Uf, state_t) + dot(Wf, input_t) + bf)\n",
    "        k_t = activation(dot(Uk, state_t) + dot(Wk, input_t) + bk)        \n",
    "        \n",
    "- `Wo`, `Uo`, `Vo`, `bo`, `Wi`, `Ui`, `bi`, `Wf`, `Uf`, `bf`,\n",
    "    `Wk`, `Uk`, `bk` 는 학습되어야 하는 파라미터들이다."
   ]
  },
  {
   "cell_type": "markdown",
   "metadata": {},
   "source": [
    "<div align=\"center\"><img src=\"https://drek4537l1klr.cloudfront.net/chollet2/Figures/10-10.png\" style=\"width:80%;\"></div>\n",
    "\n",
    "그림 출처: [Deep Learning with Python(Manning MEAP)](https://www.manning.com/books/deep-learning-with-python-second-edition)"
   ]
  },
  {
   "cell_type": "markdown",
   "metadata": {},
   "source": [
    "**참고**: `c_t` 계산에 사용되는 값들의 의미와 기능 확정적이지 않기에\n",
    "세세한 내용 보다는 장단기 메모리가 순환층에서 어떻게 활용되는가에 대한 기본적인 이해가 중요하다."
   ]
  },
  {
   "cell_type": "markdown",
   "metadata": {
    "colab_type": "text"
   },
   "source": [
    "## 10.4 순환 신경망 고급 활용법"
   ]
  },
  {
   "cell_type": "markdown",
   "metadata": {},
   "source": [
    "순환 신경망의 성능을 끌어 올리는 세 가지 기법을 소개한다. \n",
    "\n",
    "- 순환 드랍아웃(recurrent dropout) 적용\n",
    "- 순환층 쌓기\n",
    "- 양방향 순환층(bidirectional recurrent layer) 활용"
   ]
  },
  {
   "cell_type": "markdown",
   "metadata": {
    "colab_type": "text"
   },
   "source": [
    "### 순환 드랍아웃 적용"
   ]
  },
  {
   "cell_type": "markdown",
   "metadata": {},
   "source": [
    "앞서 한 개의 LSTM 층을 사용한 모델 훈련은 매우 빠르게 과대적합이 발생했다.\n",
    "과대적합 발생을 늦추기 위해 드랍아웃 기법을 순환층에 대해서도 효율적으로 적용할 수 \n",
    "있음이 2016년에 밝혀졌다. \n",
    "\n",
    "- 매 타임스텝에 대해 동일한 드랍아웃 마스크 적용\n",
    "- 두 종류의 드랍아웃 옵션 사용\n",
    "    - `dropout`: 층의 입력값에 대한 드랍아웃 비율 지정\n",
    "    - `recurrent_dropout`: 순환 유닛에 대한 드랍아웃 비율 지정"
   ]
  },
  {
   "cell_type": "markdown",
   "metadata": {
    "colab_type": "text"
   },
   "source": [
    "아래 코드는 LSTM 층에 `recurrent_dropout=0.25` 옵션을 사용해서 모델을 훈련한다.\n",
    "\n",
    "- 드랍아웃을 사용하기에 층의 유닛 수를 이전보다 두 배 늘림.\n",
    "- 과대적합이 보다 늦게 발생할 것을 대비해 에포크 수를 50으로 늘림."
   ]
  },
  {
   "cell_type": "code",
   "execution_count": null,
   "metadata": {
    "colab_type": "code"
   },
   "outputs": [],
   "source": [
    "inputs = keras.Input(shape=(sequence_length, raw_data.shape[-1]))\n",
    "x = layers.LSTM(32, recurrent_dropout=0.25)(inputs)\n",
    "x = layers.Dropout(0.5)(x)\n",
    "outputs = layers.Dense(1)(x)\n",
    "model = keras.Model(inputs, outputs)\n",
    "\n",
    "callbacks = [\n",
    "    keras.callbacks.ModelCheckpoint(\"jena_lstm_dropout.keras\",\n",
    "                                    save_best_only=True)\n",
    "]\n",
    "\n",
    "model.compile(optimizer=\"rmsprop\", loss=\"mse\", metrics=[\"mae\"])\n",
    "\n",
    "history = model.fit(train_dataset,\n",
    "                    epochs=50,\n",
    "                    validation_data=val_dataset,\n",
    "                    callbacks=callbacks)"
   ]
  },
  {
   "cell_type": "code",
   "execution_count": 26,
   "metadata": {
    "colab_type": "code"
   },
   "outputs": [
    {
     "data": {
      "image/png": "[encoded data removed]",
      "text/plain": [
       "<Figure size 432x288 with 1 Axes>"
      ]
     },
     "metadata": {
      "needs_background": "light"
     },
     "output_type": "display_data"
    }
   ],
   "source": [
    "import matplotlib.pyplot as plt\n",
    "\n",
    "loss = history.history[\"mae\"]\n",
    "val_loss = history.history[\"val_mae\"]\n",
    "epochs = range(1, len(loss) + 1)\n",
    "\n",
    "plt.figure()\n",
    "plt.plot(epochs, loss, \"bo\", label=\"Training MAE\")\n",
    "plt.plot(epochs, val_loss, \"b\", label=\"Validation MAE\")\n",
    "plt.title(\"Training and validation MAE\")\n",
    "plt.legend()\n",
    "plt.show()"
   ]
  },
  {
   "cell_type": "markdown",
   "metadata": {},
   "source": [
    "**참고**: 드랍아웃을 사용하는 LSTM, GRU 모델은 cuDNN에서 제대로 지원되지 않는다.\n",
    "이유는 순환층에 사용되는 `for` 반복문이 기본 설정에 대해서만 최적화되었기 때문이다.\n",
    "기타 옵션을 사용하는 경우 `unroll=True` 옵션을 사용하면 \n",
    "제한적(타임스텝이 100 이하로 지정된 경우)으로 cuDNN을 잘 활용할 수 있다. \n",
    "사용법은 다음과 같다. \n",
    "\n",
    "```python\n",
    "inputs = keras.Input(shape=(sequence_length, num_features))\n",
    "x = layers.LSTM(32, recurrent_dropout=0.2, unroll=True)(inputs)\n",
    "```"
   ]
  },
  {
   "cell_type": "markdown",
   "metadata": {
    "colab_type": "text"
   },
   "source": [
    "### 순환층 쌓기"
   ]
  },
  {
   "cell_type": "markdown",
   "metadata": {
    "colab_type": "text"
   },
   "source": [
    "**Training and evaluating a dropout-regularized, stacked GRU model**"
   ]
  },
  {
   "cell_type": "code",
   "execution_count": null,
   "metadata": {
    "colab_type": "code"
   },
   "outputs": [],
   "source": [
    "inputs = keras.Input(shape=(sequence_length, raw_data.shape[-1]))\n",
    "x = layers.GRU(32, recurrent_dropout=0.5, return_sequences=True)(inputs)\n",
    "x = layers.GRU(32, recurrent_dropout=0.5)(x)\n",
    "x = layers.Dropout(0.5)(x)\n",
    "outputs = layers.Dense(1)(x)\n",
    "model = keras.Model(inputs, outputs)\n",
    "\n",
    "callbacks = [\n",
    "    keras.callbacks.ModelCheckpoint(\"jena_stacked_gru_dropout.keras\",\n",
    "                                    save_best_only=True)\n",
    "]\n",
    "model.compile(optimizer=\"rmsprop\", loss=\"mse\", metrics=[\"mae\"])\n",
    "history = model.fit(train_dataset,\n",
    "                    epochs=50,\n",
    "                    validation_data=val_dataset,\n",
    "                    callbacks=callbacks)\n",
    "model = keras.models.load_model(\"jena_stacked_gru_dropout.keras\")\n",
    "print(f\"Test MAE: {model.evaluate(test_dataset)[1]:.2f}\")"
   ]
  },
  {
   "cell_type": "markdown",
   "metadata": {
    "colab_type": "text"
   },
   "source": [
    "### 양방향 RNN 적용"
   ]
  },
  {
   "cell_type": "markdown",
   "metadata": {},
   "source": [
    "<div align=\"center\"><img src=\"https://drek4537l1klr.cloudfront.net/chollet2/Figures/10-14.png\" style=\"width:50%;\"></div>\n",
    "\n",
    "그림 출처: [Deep Learning with Python(Manning MEAP)](https://www.manning.com/books/deep-learning-with-python-second-edition)"
   ]
  },
  {
   "cell_type": "markdown",
   "metadata": {
    "colab_type": "text"
   },
   "source": [
    "**Training and evaluating a bidirectional LSTM**"
   ]
  },
  {
   "cell_type": "code",
   "execution_count": null,
   "metadata": {
    "colab_type": "code"
   },
   "outputs": [],
   "source": [
    "inputs = keras.Input(shape=(sequence_length, raw_data.shape[-1]))\n",
    "x = layers.Bidirectional(layers.LSTM(16))(inputs)\n",
    "outputs = layers.Dense(1)(x)\n",
    "model = keras.Model(inputs, outputs)\n",
    "\n",
    "model.compile(optimizer=\"rmsprop\", loss=\"mse\", metrics=[\"mae\"])\n",
    "history = model.fit(train_dataset,\n",
    "                    epochs=10,\n",
    "                    validation_data=val_dataset)"
   ]
  },
  {
   "cell_type": "markdown",
   "metadata": {
    "colab_type": "text"
   },
   "source": [
    "### _성능 최대한 끌어올리기_"
   ]
  },
  {
   "cell_type": "code",
   "execution_count": null,
   "metadata": {},
   "outputs": [],
   "source": []
  },
  {
   "cell_type": "code",
   "execution_count": null,
   "metadata": {},
   "outputs": [],
   "source": []
  },
  {
   "cell_type": "code",
   "execution_count": null,
   "metadata": {},
   "outputs": [],
   "source": []
  }
 ],
 "metadata": {
  "colab": {
   "collapsed_sections": [],
   "name": "dlp10_dl_for_timeseries",
   "private_outputs": false,
   "provenance": [],
   "toc_visible": true
  },
  "kernelspec": {
   "display_name": "Python 3",
   "language": "python",
   "name": "python3"
  },
  "language_info": {
   "codemirror_mode": {
    "name": "ipython",
    "version": 3
   },
   "file_extension": ".py",
   "mimetype": "text/x-python",
   "name": "python",
   "nbconvert_exporter": "python",
   "pygments_lexer": "ipython3",
   "version": "3.8.8"
  }
 },
 "nbformat": 4,
 "nbformat_minor": 1
}
