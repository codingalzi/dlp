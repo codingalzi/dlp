{
 "cells": [
  {
   "cell_type": "markdown",
   "metadata": {
    "colab_type": "text",
    "slideshow": {
     "slide_type": "slide"
    }
   },
   "source": [
    "# 3장 케라스와 텐서플로우"
   ]
  },
  {
   "cell_type": "markdown",
   "metadata": {
    "slideshow": {
     "slide_type": "slide"
    }
   },
   "source": [
    "## 주요 내용\n",
    "\n",
    "- 딥러닝 필수 요소\n",
    "- 케라스와 텐서플로우 간략 소개\n",
    "- 텐서플로우, 케라스, GPU를 활용한 딥러닝 작업환경\n",
    "- 케라스와 텐서플로우를 이용한 신경망의 핵심 구성요소 구현"
   ]
  },
  {
   "cell_type": "markdown",
   "metadata": {
    "colab_type": "text",
    "slideshow": {
     "slide_type": "slide"
    }
   },
   "source": [
    "## 3.1 텐서플로우 소개"
   ]
  },
  {
   "cell_type": "markdown",
   "metadata": {
    "slideshow": {
     "slide_type": "slide"
    }
   },
   "source": [
    "### 텐서플로우\n",
    "\n",
    "- 구글을 중심으로 개발된 머신러닝 __플랫폼__(platform)\n",
    "    - TF-Agents: 강화학습 연구 지원\n",
    "    - TFX: 머신러닝 프로젝트 진행과정(workflow) 운영 지원\n",
    "    - TF-Hub: 훈련된 모델 제공\n",
    "- 파이썬 기반\n",
    "- 텐서 연산 지원"
   ]
  },
  {
   "cell_type": "markdown",
   "metadata": {
    "slideshow": {
     "slide_type": "slide"
    }
   },
   "source": [
    "### 넘파이(Numpy)와의 차이점\n",
    "\n",
    "- 미분 가능한 함수들의 그레이디언트 자동 계산\n",
    "- GPU, TPU 등 고성능 병렬 하드웨어 가속기 활용 가능\n",
    "    - 높은 확장성: 일기예보, 바둑 프로그램 등 매우 많은 데이터와 계산이 요구되는 실전 상황에 활용됨.\n",
    "- C++(게임), 자바스크립트(웹브라우저), TFLite(모바일 장치) 등 다른 언어가 선호되는 \n",
    "    도메인 특화 프로그램에 쉽게 이식 가능"
   ]
  },
  {
   "cell_type": "markdown",
   "metadata": {
    "colab_type": "text",
    "slideshow": {
     "slide_type": "slide"
    }
   },
   "source": [
    "## 3.2 케라스"
   ]
  },
  {
   "cell_type": "markdown",
   "metadata": {
    "slideshow": {
     "slide_type": "slide"
    }
   },
   "source": [
    "### 케라스와 텐서플로우\n",
    "\n",
    "- 딥러닝 모델 훈련에 최적화된 인터페이스 제공.\n",
    "- 원래 텐서플로우와 독립적으로 시작됨.\n",
    "- 텐서플로우 2.0부터 텐서플로우 라이브러리의 최상위 프레임워크(framework)로 포함됨.\n",
    "- 다양한 워크플로우 제공: 모델 구축과 훈련 방식에 있어서 고수준/저수준 방식 모두 제공"
   ]
  },
  {
   "cell_type": "markdown",
   "metadata": {},
   "source": [
    "<div align=\"center\"><img src=\"https://drek4537l1klr.cloudfront.net/chollet2/v-7/Figures/keras_and_tf.png\" style=\"width:650px;\"></div>\n",
    "\n",
    "그림 출처: [Deep Learning with Python(Manning MEAP)](https://www.manning.com/books/deep-learning-with-python-second-edition)"
   ]
  },
  {
   "cell_type": "markdown",
   "metadata": {
    "colab_type": "text",
    "slideshow": {
     "slide_type": "slide"
    }
   },
   "source": [
    "## 3.3 케라스와 텐서플로우의 약력"
   ]
  },
  {
   "cell_type": "markdown",
   "metadata": {
    "slideshow": {
     "slide_type": "slide"
    }
   },
   "source": [
    "- 2007년: 씨아노(Theano) 공개. 캐나다 몬트리올 대학교 연구팀.\n",
    "    - 계산 그래프, 미분 자동화 등을 최초로 활용\n",
    "- 2015년 3월: 케라스 라이브러리 공개\n",
    "    - 씨아노(Theano)를 백앤드로 사용하는 고수준 패키지\n",
    "- 2015년 11월: 텐서플로우 라이브러리 공개\n",
    "- 2016년: 텐서플로우가 케라스의 기본 백엔드로 지정됨\n",
    "- 2017년: 씨아노, 텐서플로우, CNTK(마이크로소프트), MXNet(아마존)이 케라스의 백엔드로 지원됨.\n",
    "- 2019년 9월: 텐서플로우 2.0부터 케라스가 텐서플로우의 최상위 프레임워크로 지정됨."
   ]
  },
  {
   "cell_type": "markdown",
   "metadata": {
    "colab_type": "text",
    "slideshow": {
     "slide_type": "slide"
    }
   },
   "source": [
    "## 3.4 딥러닝 작업환경"
   ]
  },
  {
   "cell_type": "markdown",
   "metadata": {
    "slideshow": {
     "slide_type": "slide"
    }
   },
   "source": [
    "### GPU 활용 옵션\n",
    "\n",
    "- 개인 NVIDIA 그래픽카드가 장착된 PC 또는 노트북 사용\n",
    "    - 딥러닝을 많이 활용하는 경우\n",
    "    - Ubuntu 설치 또는 WSL(Windows Subsystem for Linux) 활용 추천\n",
    "- 구글 클라우드 플랫폼 또는 아마존 웹서비스(AWS EC2) 활용\n",
    "    - 단기간동안 고성능 컴퓨터를 활용하고자 하는 경우\n",
    "- __구글 코랩 활용__\n",
    "    - 강좌 이수 용도로 추천"
   ]
  },
  {
   "cell_type": "markdown",
   "metadata": {
    "colab_type": "text",
    "slideshow": {
     "slide_type": "slide"
    }
   },
   "source": [
    "### 구글 코랩 사용\n",
    "\n",
    "- 기본 사용법은 인터넷 검색 참조\n",
    "- 코드 실행에 필요한 추가 패키지 설치는 pip(파이썬 패키지 관리자) 활용\n",
    "    ```python\n",
    "    !pip install package_name\n",
    "    ```\n",
    "- 참고: 느낌표(`!`)는 주피터 노트북 코드셀에서 터미널 명령어를 실행하는 경우 사용\n",
    "- GPU 활용: 런타임 유형을 GPU로 지정만 하면 됨.\n",
    "- TPU 활용: 좀 더 복잡한 세팅 필요. 13장 참조."
   ]
  },
  {
   "cell_type": "markdown",
   "metadata": {
    "colab_type": "text",
    "slideshow": {
     "slide_type": "slide"
    }
   },
   "source": [
    "## 3.5 텐서플로우 기본 사용법"
   ]
  },
  {
   "cell_type": "markdown",
   "metadata": {
    "slideshow": {
     "slide_type": "slide"
    }
   },
   "source": [
    "### 신경망 모델 훈련 핵심 1: 텐서플로우 기본 API 활용 텐서 조작\n",
    "\n",
    "1. 상수 텐서와 변수 텐서\n",
    "    - 상수 텐서(constant tensor): 입출력 데이터 등 변하지 않는 텐서\n",
    "    - 변수 텐서(variable): 모델 가중치, 편향 등 업데이트 되는 텐서\n",
    "1. 텐서 연산: 덧셈, relu, 점곱 등\n",
    "1. 역전파(backpropagation): \n",
    "    - 손실함수의 그레이디언트 계산 후 모델 가중치 업데이트\n",
    "    - 그레이디언트 테이프(`GradientTape`) 이용"
   ]
  },
  {
   "cell_type": "markdown",
   "metadata": {
    "slideshow": {
     "slide_type": "slide"
    }
   },
   "source": [
    "### 신경망 모델 훈련 핵심 2: 케라스 API 활용 모델 구성 및 훈련\n",
    "\n",
    "1. 층(layer)과 모델: 층을 적절하게 쌓아 모델 구성\n",
    "1. 손실 함수(loss function): 학습 방향을 유도하는 피드백 역할 수행\n",
    "1. 옵티마이저(optimizer): 학습 방향을 정하는 기능 수행\n",
    "1. 메트릭(metric): 정확도 등 모델 성능 평가 용도\n",
    "1. 훈련 반복(training loop): 미니 배치 경사하강법 실행"
   ]
  }
 ],
 "metadata": {
  "celltoolbar": "Slideshow",
  "colab": {
   "collapsed_sections": [],
   "name": "chapter03_introduction-to-keras-and-tf.i",
   "private_outputs": false,
   "provenance": [],
   "toc_visible": true
  },
  "kernelspec": {
   "display_name": "Python 3",
   "language": "python",
   "name": "python3"
  },
  "language_info": {
   "codemirror_mode": {
    "name": "ipython",
    "version": 3
   },
   "file_extension": ".py",
   "mimetype": "text/x-python",
   "name": "python",
   "nbconvert_exporter": "python",
   "pygments_lexer": "ipython3",
   "version": "3.8.8"
  }
 },
 "nbformat": 4,
 "nbformat_minor": 1
}
