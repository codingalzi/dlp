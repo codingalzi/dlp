{
 "cells": [
  {
   "cell_type": "markdown",
   "metadata": {},
   "source": [
    "# 1장 딥러닝이란?"
   ]
  },
  {
   "cell_type": "markdown",
   "metadata": {
    "slideshow": {
     "slide_type": "slide"
    }
   },
   "source": [
    "## 1.1 인공지능과 머신러닝, 딥러닝"
   ]
  },
  {
   "cell_type": "markdown",
   "metadata": {
    "slideshow": {
     "slide_type": "slide"
    }
   },
   "source": [
    "### 관계 1: 연구 분야\n",
    "\n",
    "<div align=\"center\"><img src=\"https://raw.githubusercontent.com/codingalzi/handson-ml2/master/slides/images/ai-ml-relation.png\" style=\"width:500px;\"></div>\n",
    "\n",
    "그림 출처: [교보문고: 에이지 오브 머신러닝](http://www.kyobobook.co.kr/readIT/readITColumnView.laf?thmId=00198&sntnId=14142)"
   ]
  },
  {
   "cell_type": "markdown",
   "metadata": {
    "slideshow": {
     "slide_type": "slide"
    }
   },
   "source": [
    "### 관계 2: 역사\n",
    "\n",
    "<div align=\"center\"><img src=\"https://raw.githubusercontent.com/codingalzi/handson-ml2/master/slides/images/ai-ml-relation2.png\" style=\"width:600px;\"></div>\n",
    "\n",
    "그림 출처: [NVIDIA 블로그](https://blogs.nvidia.com/blog/2016/07/29/whats-difference-artificial-intelligence-machine-learning-deep-learning-ai/)"
   ]
  },
  {
   "cell_type": "markdown",
   "metadata": {},
   "source": [
    "### 1.1.1 인공지능\n",
    "\n",
    "- 1950년대: 컴퓨터가 생각할 수 있는가? 라는 질문에서 출발\n",
    "- 1956년: 존 맥카시(John McCarthy)의 제안에 의해 연구분야로 자리잡음.\n",
    "    - 목표: 인간의 모든 지능 활동을 컴퓨터로 구현하기\n",
    "- 정의: 사람의 지능적 작업을 컴퓨터로 자동화하는 노력\n",
    "- 머신러닝과 딥러닝이 포함됨\n",
    "- 1980년대까지는 __학습__(러닝)이 아닌 모든 것을 정해진 규칙대로 움직이는\n",
    "    __심볼릭 AI__(symbolic AI)가 주로 연구되었음.\n",
    "    - 모든 가능성을 논리적으로 전개하는 기법\n",
    "    - 서양장기(체스) 등에서 우수한 성능 발휘\n",
    "    - 반면에 이미지 분류, 음석 인식, 자연어 번역 등 보다 복잡한 문제는 제대로 다루지 못함."
   ]
  },
  {
   "cell_type": "markdown",
   "metadata": {},
   "source": [
    "### 1.1.2 머신러닝\n",
    "\n",
    "- 머신러닝 시스템: \n",
    "    - 명시적인 규칙(명령문)만을 수행하지 않음.\n",
    "    - 대신 데이터로부터 특정 통계적 구조를 학습하여 지정된 작업을 \n",
    "        스스로(자동으로) 완수할 수 있는 규칙을 생성함.\n",
    "    - 사진 태그 시스템 예제: 태그 달린 사진을 이용하여 학습하면 사진에 자동으로 태그를 다는 데에 사용되는 \n",
    "- 1990년대에 보다 빨라진 하드웨어와 보다 커진 데이터셋의 영향으로 본격적으로 발전 시작"
   ]
  },
  {
   "cell_type": "markdown",
   "metadata": {
    "slideshow": {
     "slide_type": "slide"
    }
   },
   "source": [
    "<div align=\"center\"><img src=\"https://drek4537l1klr.cloudfront.net/chollet2/v-7/Figures/ch01-a-new-programming-paradigm.png\" style=\"width:400px;\"></div>\n",
    "\n",
    "그림 출처: [Manning MEAP](https://drek4537l1klr.cloudfront.net/chollet2/v-7/Figures/ch01-a-new-programming-paradigm.png)"
   ]
  },
  {
   "cell_type": "markdown",
   "metadata": {},
   "source": [
    "#### 머신러닝 대 통계학\n",
    "\n",
    "- 머신러닝의 기초는 통계학. 1학기 내용 참조.\n",
    "- 하지만 아주 큰 데이터(빅데이터)를 단순히 통계학적으로 다룰 수는 없음.\n",
    "- 특히 딥러닝의 경우 수학적, 통계적 이론 보다는 공학적 접근법이 보다 중요해짐.\n",
    "- 소프트웨어와 하드웨어의 발전에 보다 의존함을 이어지는 내용을 다루면서 계속해서 확인하게 될 것임."
   ]
  },
  {
   "cell_type": "markdown",
   "metadata": {
    "slideshow": {
     "slide_type": "slide"
    }
   },
   "source": [
    "### 1.1.3 데이터 표현법 학습\n",
    "\n",
    "- 데이터 __표현__(representation): 데이터를 컴퓨터가 다룰 수 있는 자료형으로 구현하기\n",
    "- 예제: 컬러 이미지 표현법\n",
    "    - 빨간색-초록색-파란색을 사용하는 RGB 방식 또는 색상-채도-명도를 사용하는 HSV 방식\n",
    "- 주어진 과제에 따라 적절한 표현법 선택해야 함\n",
    "    - 컬러 사진에서 빨간색 픽셀만을 선택하고자 할 때: RGB 방식 활용\n",
    "    - 컬리 이미지의 채도를 낮추고자 할 때: HSV 방식 활용   "
   ]
  },
  {
   "cell_type": "markdown",
   "metadata": {},
   "source": [
    "#### 머신러닝 모델\n",
    "\n",
    "- 필요 사항\n",
    "    - 입력 데이터셋: 음성 인식 모델을 위한 음성 파일, 이미지 태깅 모델을 위한 사진 등.\n",
    "    - 기대 출력값: 음성 인식 작업의 경우 사람이 직접 작성한 글, 이미지 작업의 경우 '강아지', \n",
    "        '고양이', 등의 사람이 직접 붙힌 태그.\n",
    "    - 알고리즘 성능측정법: 출력 예상값과 기대 출력값 사이의 거리(차이) 측정법. \n",
    "        거리를 줄이는 방향으로 알고리즘에 사용되는 파라미터를 반복 수정하는\n",
    "        과정을 __학습__이라 부름.\n",
    "- 역할: 입력 데이터를 적절한 표현으로 변환한 후, 변환된 테이터셋으로부터 \n",
    "    과제 해결을 위한 적절한 수학적, 통계적 규칙 찾기"
   ]
  },
  {
   "cell_type": "markdown",
   "metadata": {},
   "source": [
    "#### 예제: 선형 분류\n",
    "\n",
    "1. 왼쪽 그림: 입력 데이터셋\n",
    "1. 가운데 그림: 부적절한 좌표 변환. 분류 과제 해결에 적합하지 않음.\n",
    "1. 오른쪽 그림: 적절한 좌표 변환. 분류 과제를 보다 효율적으로 해결할 수 있음."
   ]
  },
  {
   "cell_type": "markdown",
   "metadata": {},
   "source": [
    "<div align=\"center\"><img src=\"https://drek4537l1klr.cloudfront.net/chollet2/v-7/Figures/ch01-learning_representations.png\" style=\"width:700px;\"></div>\n",
    "\n",
    "그림 출처: [Manning MEAP](https://drek4537l1klr.cloudfront.net/chollet2/v-7/Figures/ch01-learning_representations.png)"
   ]
  },
  {
   "cell_type": "markdown",
   "metadata": {
    "slideshow": {
     "slide_type": "slide"
    }
   },
   "source": [
    "#### 데이터 변환 수동화의 어려움\n",
    "\n",
    "- 위 예제의 경우 수동으로 데이터 변환 방식을 어렵지 않게 알아낼 수 있음.\n",
    "- 반면에 손글씨 숫자의 경우 간단하지 않음(아래 그림 참조). "
   ]
  },
  {
   "cell_type": "markdown",
   "metadata": {},
   "source": [
    "<div align=\"center\"><img src=\"https://raw.githubusercontent.com/codingalzi/handson-ml2/master/slides/images/ch03/homl03-10.png\" width=\"400\"/></div>\n",
    "\n",
    "그림 출처: [핸즈온 머신러닝(2판)](https://www.hanbit.co.kr/store/books/look.php?p_code=B9267655530)"
   ]
  },
  {
   "cell_type": "markdown",
   "metadata": {
    "slideshow": {
     "slide_type": "slide"
    }
   },
   "source": [
    "#### 데이터 변환 자동화\n",
    "\n",
    "- 보다 유용한 데이터 표현으로 변환하는 과정을 자동으로 찾는 과정이 머신러닝 모델의 학습을 의미함.\n",
    "- __데이터 표현의 유용성__에 대한 기준: 주어진 과제 해결을 위한 보다 쉬운 규칙 제공\n",
    "- 변환 방식 종류\n",
    "    - 좌표 변환, 픽셀 개수, 닫힌 원의 개수, 선형/비선형 변환, 이동, ...\n",
    "    - 기본적으로 주어진 문제에 따라 다른 변환 방식 활용"
   ]
  },
  {
   "cell_type": "markdown",
   "metadata": {
    "slideshow": {
     "slide_type": "slide"
    }
   },
   "source": [
    "#### 가설 공간\n",
    "\n",
    "- 주어진 문제에 대해 어느 변환이 좋은지 머신러닝 알고리즘은 일반적으로 쉽게 알아내지 못함.\n",
    "- 프로그래머에 의해 지정된 함수들의 집합(__가설 공간__)에서 적합한 변환 함수를 탐색하는 일만 수행함.\n",
    "- 예제: 위 2차원 좌표 변환 문제의 가설 공간은 '모든 가능한 좌표 변환 함수'들의 집합"
   ]
  }
 ],
 "metadata": {
  "celltoolbar": "Slideshow",
  "kernelspec": {
   "display_name": "Python 3",
   "language": "python",
   "name": "python3"
  },
  "language_info": {
   "codemirror_mode": {
    "name": "ipython",
    "version": 3
   },
   "file_extension": ".py",
   "mimetype": "text/x-python",
   "name": "python",
   "nbconvert_exporter": "python",
   "pygments_lexer": "ipython3",
   "version": "3.8.5"
  }
 },
 "nbformat": 4,
 "nbformat_minor": 4
}
