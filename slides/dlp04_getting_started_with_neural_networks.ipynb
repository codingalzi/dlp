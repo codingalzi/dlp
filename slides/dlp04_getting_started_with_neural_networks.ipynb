{
 "cells": [
  {
   "cell_type": "markdown",
   "metadata": {
    "colab_type": "text",
    "slideshow": {
     "slide_type": "slide"
    }
   },
   "source": [
    "# 4장 신경망 활용: 분류와 회귀"
   ]
  },
  {
   "cell_type": "markdown",
   "metadata": {
    "slideshow": {
     "slide_type": "slide"
    }
   },
   "source": [
    "## 주요 내용"
   ]
  },
  {
   "cell_type": "markdown",
   "metadata": {},
   "source": [
    "- 머신러닝 실전 예제: 분류와 회귀\n",
    "    - 이항 분류\n",
    "    - 다중 클래스 분류\n",
    "    - 회귀    "
   ]
  },
  {
   "cell_type": "markdown",
   "metadata": {
    "colab_type": "text",
    "slideshow": {
     "slide_type": "slide"
    }
   },
   "source": [
    "## 4.1 영화 리뷰 분류: 이항 분류"
   ]
  },
  {
   "cell_type": "markdown",
   "metadata": {},
   "source": [
    "- 영화 리뷰의 긍정성/부정성 평가 분류\n",
    "- IMDB 데이터셋\n",
    "    - 긍정 리뷰: 25,000 개\n",
    "    - 부정 리뷰: 25,000 개"
   ]
  },
  {
   "cell_type": "markdown",
   "metadata": {
    "colab_type": "text",
    "slideshow": {
     "slide_type": "slide"
    }
   },
   "source": [
    "## 4.2 뉴스  기사 분류: 다중 클래스 분류"
   ]
  },
  {
   "cell_type": "markdown",
   "metadata": {},
   "source": [
    "- 뉴스 기사의 주제(topic)별 분류. 46개의 주제 활용.\n",
    "- 로이터(Reuter) 뉴스 데이터셋\n",
    "    - 훈련 세트 크기: 8,982\n",
    "    - 테스트 세트 크기: 2,246"
   ]
  },
  {
   "cell_type": "markdown",
   "metadata": {
    "colab_type": "text",
    "slideshow": {
     "slide_type": "slide"
    }
   },
   "source": [
    "## 4.3 주택 가격 예측: 회귀"
   ]
  },
  {
   "cell_type": "markdown",
   "metadata": {},
   "source": [
    "- 1970년대 중반 미국 보스턴(Boston) 시 외곽 지역의 범죄율, 지방세율 등의 데이터를 활용한 \n",
    "    주택 가격의 중앙값 예측\n",
    "- IMDB 데이터셋\n",
    "    - 특성 수: 13\n",
    "    - 훈련 세트 크기: 404\n",
    "    - 테스트 세트 크기: 102"
   ]
  }
 ],
 "metadata": {
  "celltoolbar": "Slideshow",
  "colab": {
   "collapsed_sections": [],
   "name": "chapter04_getting-started-with-neural-networks.i",
   "private_outputs": false,
   "provenance": [],
   "toc_visible": true
  },
  "kernelspec": {
   "display_name": "Python 3",
   "language": "python",
   "name": "python3"
  },
  "language_info": {
   "codemirror_mode": {
    "name": "ipython",
    "version": 3
   },
   "file_extension": ".py",
   "mimetype": "text/x-python",
   "name": "python",
   "nbconvert_exporter": "python",
   "pygments_lexer": "ipython3",
   "version": "3.8.8"
  }
 },
 "nbformat": 4,
 "nbformat_minor": 1
}
